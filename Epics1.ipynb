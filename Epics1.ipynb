{
  "cells": [
    {
      "cell_type": "markdown",
      "metadata": {
        "id": "view-in-github",
        "colab_type": "text"
      },
      "source": [
        "<a href=\"https://colab.research.google.com/github/govind-rajesh/Cattle-Disease-Prediction-/blob/main/Epics1.ipynb\" target=\"_parent\"><img src=\"https://colab.research.google.com/assets/colab-badge.svg\" alt=\"Open In Colab\"/></a>"
      ]
    },
    {
      "cell_type": "markdown",
      "metadata": {
        "id": "Ydfy_69yBX-e"
      },
      "source": [
        "#Svm"
      ]
    },
    {
      "cell_type": "code",
      "execution_count": null,
      "metadata": {
        "id": "HyhKy-8jNLyM"
      },
      "outputs": [],
      "source": [
        "import os\n",
        "import warnings\n",
        "import numpy as np\n",
        "import pandas as pd\n",
        "import matplotlib.pyplot as plt\n",
        "import seaborn as sns\n",
        "from sklearn import svm, metrics, model_selection, preprocessing\n",
        "import tensorflow as tf"
      ]
    },
    {
      "cell_type": "code",
      "source": [
        "print(len(desired_order))"
      ],
      "metadata": {
        "colab": {
          "base_uri": "https://localhost:8080/"
        },
        "id": "TboreaVfstJi",
        "outputId": "730004bd-fe90-4b3d-8d32-6995a35d6368"
      },
      "execution_count": null,
      "outputs": [
        {
          "output_type": "stream",
          "name": "stdout",
          "text": [
            "47\n"
          ]
        }
      ]
    },
    {
      "cell_type": "code",
      "execution_count": null,
      "metadata": {
        "colab": {
          "base_uri": "https://localhost:8080/"
        },
        "id": "Fy5LL9tKypZ0",
        "outputId": "eb8bcbaa-efdb-4f9f-e199-728945fbfa1a"
      },
      "outputs": [
        {
          "output_type": "stream",
          "name": "stdout",
          "text": [
            "(1635, 47) (409, 47)\n"
          ]
        }
      ],
      "source": [
        "print(X_train.shape,X_test.shape)"
      ]
    },
    {
      "cell_type": "code",
      "execution_count": null,
      "metadata": {
        "id": "TB4UiT06vtEl"
      },
      "outputs": [],
      "source": [
        "from sklearn.svm import SVC"
      ]
    },
    {
      "cell_type": "code",
      "execution_count": null,
      "metadata": {
        "id": "8YmbWDKwv1u5"
      },
      "outputs": [],
      "source": [
        "model1=SVC()"
      ]
    },
    {
      "cell_type": "code",
      "execution_count": null,
      "metadata": {
        "colab": {
          "base_uri": "https://localhost:8080/",
          "height": 74
        },
        "id": "EGpXEKmVv7K7",
        "outputId": "c9120ad9-95ab-42eb-f11b-a8bd677c5844"
      },
      "outputs": [
        {
          "output_type": "execute_result",
          "data": {
            "text/plain": [
              "SVC()"
            ],
            "text/html": [
              "<style>#sk-container-id-1 {color: black;}#sk-container-id-1 pre{padding: 0;}#sk-container-id-1 div.sk-toggleable {background-color: white;}#sk-container-id-1 label.sk-toggleable__label {cursor: pointer;display: block;width: 100%;margin-bottom: 0;padding: 0.3em;box-sizing: border-box;text-align: center;}#sk-container-id-1 label.sk-toggleable__label-arrow:before {content: \"▸\";float: left;margin-right: 0.25em;color: #696969;}#sk-container-id-1 label.sk-toggleable__label-arrow:hover:before {color: black;}#sk-container-id-1 div.sk-estimator:hover label.sk-toggleable__label-arrow:before {color: black;}#sk-container-id-1 div.sk-toggleable__content {max-height: 0;max-width: 0;overflow: hidden;text-align: left;background-color: #f0f8ff;}#sk-container-id-1 div.sk-toggleable__content pre {margin: 0.2em;color: black;border-radius: 0.25em;background-color: #f0f8ff;}#sk-container-id-1 input.sk-toggleable__control:checked~div.sk-toggleable__content {max-height: 200px;max-width: 100%;overflow: auto;}#sk-container-id-1 input.sk-toggleable__control:checked~label.sk-toggleable__label-arrow:before {content: \"▾\";}#sk-container-id-1 div.sk-estimator input.sk-toggleable__control:checked~label.sk-toggleable__label {background-color: #d4ebff;}#sk-container-id-1 div.sk-label input.sk-toggleable__control:checked~label.sk-toggleable__label {background-color: #d4ebff;}#sk-container-id-1 input.sk-hidden--visually {border: 0;clip: rect(1px 1px 1px 1px);clip: rect(1px, 1px, 1px, 1px);height: 1px;margin: -1px;overflow: hidden;padding: 0;position: absolute;width: 1px;}#sk-container-id-1 div.sk-estimator {font-family: monospace;background-color: #f0f8ff;border: 1px dotted black;border-radius: 0.25em;box-sizing: border-box;margin-bottom: 0.5em;}#sk-container-id-1 div.sk-estimator:hover {background-color: #d4ebff;}#sk-container-id-1 div.sk-parallel-item::after {content: \"\";width: 100%;border-bottom: 1px solid gray;flex-grow: 1;}#sk-container-id-1 div.sk-label:hover label.sk-toggleable__label {background-color: #d4ebff;}#sk-container-id-1 div.sk-serial::before {content: \"\";position: absolute;border-left: 1px solid gray;box-sizing: border-box;top: 0;bottom: 0;left: 50%;z-index: 0;}#sk-container-id-1 div.sk-serial {display: flex;flex-direction: column;align-items: center;background-color: white;padding-right: 0.2em;padding-left: 0.2em;position: relative;}#sk-container-id-1 div.sk-item {position: relative;z-index: 1;}#sk-container-id-1 div.sk-parallel {display: flex;align-items: stretch;justify-content: center;background-color: white;position: relative;}#sk-container-id-1 div.sk-item::before, #sk-container-id-1 div.sk-parallel-item::before {content: \"\";position: absolute;border-left: 1px solid gray;box-sizing: border-box;top: 0;bottom: 0;left: 50%;z-index: -1;}#sk-container-id-1 div.sk-parallel-item {display: flex;flex-direction: column;z-index: 1;position: relative;background-color: white;}#sk-container-id-1 div.sk-parallel-item:first-child::after {align-self: flex-end;width: 50%;}#sk-container-id-1 div.sk-parallel-item:last-child::after {align-self: flex-start;width: 50%;}#sk-container-id-1 div.sk-parallel-item:only-child::after {width: 0;}#sk-container-id-1 div.sk-dashed-wrapped {border: 1px dashed gray;margin: 0 0.4em 0.5em 0.4em;box-sizing: border-box;padding-bottom: 0.4em;background-color: white;}#sk-container-id-1 div.sk-label label {font-family: monospace;font-weight: bold;display: inline-block;line-height: 1.2em;}#sk-container-id-1 div.sk-label-container {text-align: center;}#sk-container-id-1 div.sk-container {/* jupyter's `normalize.less` sets `[hidden] { display: none; }` but bootstrap.min.css set `[hidden] { display: none !important; }` so we also need the `!important` here to be able to override the default hidden behavior on the sphinx rendered scikit-learn.org. See: https://github.com/scikit-learn/scikit-learn/issues/21755 */display: inline-block !important;position: relative;}#sk-container-id-1 div.sk-text-repr-fallback {display: none;}</style><div id=\"sk-container-id-1\" class=\"sk-top-container\"><div class=\"sk-text-repr-fallback\"><pre>SVC()</pre><b>In a Jupyter environment, please rerun this cell to show the HTML representation or trust the notebook. <br />On GitHub, the HTML representation is unable to render, please try loading this page with nbviewer.org.</b></div><div class=\"sk-container\" hidden><div class=\"sk-item\"><div class=\"sk-estimator sk-toggleable\"><input class=\"sk-toggleable__control sk-hidden--visually\" id=\"sk-estimator-id-1\" type=\"checkbox\" checked><label for=\"sk-estimator-id-1\" class=\"sk-toggleable__label sk-toggleable__label-arrow\">SVC</label><div class=\"sk-toggleable__content\"><pre>SVC()</pre></div></div></div></div></div>"
            ]
          },
          "metadata": {},
          "execution_count": 7
        }
      ],
      "source": [
        "model1.fit(X_train,y_train)"
      ]
    },
    {
      "cell_type": "code",
      "execution_count": null,
      "metadata": {
        "colab": {
          "base_uri": "https://localhost:8080/"
        },
        "id": "bbvTHTG2wWOT",
        "outputId": "f26a70b5-406c-45b4-b577-9028db7ee75c"
      },
      "outputs": [
        {
          "output_type": "execute_result",
          "data": {
            "text/plain": [
              "array([13,  4,  4, 22, 22, 15, 23, 22,  8, 14, 24, 11, 10, 14, 14, 12, 18,\n",
              "        4,  9,  6, 22, 16, 10, 13, 11, 22,  4, 21,  6, 16, 14,  3, 23, 22,\n",
              "       12,  3,  9, 25,  1, 22, 22, 15,  1,  4,  2, 20, 11, 15, 15, 10, 21,\n",
              "       22, 12, 10, 16, 13, 13,  8,  3,  9,  3, 16,  3, 11, 24,  4, 24, 12,\n",
              "       22,  1,  8, 19,  0, 22, 10, 14, 21, 24, 24,  6, 14, 16,  9, 14,  9,\n",
              "       25, 14, 24, 22, 16,  4,  6,  3, 16, 21,  0, 14, 10,  6,  0, 10,  6,\n",
              "        1, 24, 14, 13, 21, 16, 10, 22, 12,  9,  1, 22, 20, 14, 16, 20, 16,\n",
              "       25,  1,  3, 12,  3,  2, 11, 22, 14, 16, 22, 18, 21, 24, 24,  0,  4,\n",
              "       22,  9,  2, 22, 25,  6, 24,  6, 24, 13, 15,  5, 12, 11,  8, 22, 21,\n",
              "       16, 11,  8,  6, 11, 14, 16, 14,  4, 25, 21,  9, 16, 16, 10,  8,  1,\n",
              "       21,  0,  4, 24, 22,  3, 19, 25, 24,  6,  9, 22,  6, 14, 25, 14, 20,\n",
              "       22,  4, 10, 14,  1, 17, 20, 17, 16, 22, 16, 10, 12,  4,  5, 16,  4,\n",
              "       10,  8, 22, 22, 22,  6, 12,  0, 16, 24,  4, 21, 21, 14,  1,  1, 13,\n",
              "        2, 24,  1, 16, 11, 13,  0, 12, 20, 20, 22, 13, 16,  6, 20, 16, 12,\n",
              "       13, 16,  4,  8, 13,  4, 22,  1,  4,  0, 25, 20,  8, 22,  2, 25, 14,\n",
              "       11,  1,  0,  0,  9, 24, 25, 14, 12,  4, 12, 16, 22, 11, 24, 14,  1,\n",
              "       21, 10, 16, 14,  0,  6,  1,  8, 21, 24, 16, 22, 10, 13, 14,  5,  8,\n",
              "       16, 21,  3,  9, 16, 13, 13,  7, 14, 13, 10, 21, 16, 22, 18, 14, 24,\n",
              "       25, 13, 24, 16,  3, 10,  6, 24, 22,  7, 22, 17,  3,  5, 11, 24, 16,\n",
              "        5, 14, 10,  0, 21, 22, 16, 15, 12,  0, 21,  4, 22, 18,  4, 15, 20,\n",
              "       22, 16,  8, 23, 21,  7, 23, 16, 10, 13,  8, 22,  6, 14,  6, 16, 21,\n",
              "       24,  9, 20,  6, 25, 13, 16,  5,  7, 24, 21, 10, 20, 23,  7,  8, 13,\n",
              "        4,  1,  0,  0, 10, 19, 14, 10, 15, 14, 16,  3,  0,  6, 14,  6, 16,\n",
              "       18, 24,  2, 21, 20, 22, 22, 14, 10,  8,  1, 16, 20,  1, 12,  6, 16,\n",
              "       24])"
            ]
          },
          "metadata": {},
          "execution_count": 8
        }
      ],
      "source": [
        "model1.predict(X_test)"
      ]
    },
    {
      "cell_type": "code",
      "execution_count": null,
      "metadata": {
        "colab": {
          "base_uri": "https://localhost:8080/"
        },
        "id": "qgnmS2Hiwc2F",
        "outputId": "1ba876ab-8b2a-4c1f-f078-ca871e634524"
      },
      "outputs": [
        {
          "output_type": "execute_result",
          "data": {
            "text/plain": [
              "0.9437652811735942"
            ]
          },
          "metadata": {},
          "execution_count": 9
        }
      ],
      "source": [
        "model1.score(X_test,y_test)"
      ]
    },
    {
      "cell_type": "code",
      "execution_count": null,
      "metadata": {
        "id": "FaovQdGPzYei"
      },
      "outputs": [],
      "source": [
        "y_pred=model1.predict(X_test)"
      ]
    },
    {
      "cell_type": "code",
      "execution_count": null,
      "metadata": {
        "colab": {
          "base_uri": "https://localhost:8080/"
        },
        "id": "BQHR3Mnlz1nu",
        "outputId": "6ed5292e-3361-4513-9dd3-52998ff6c4b2"
      },
      "outputs": [
        {
          "output_type": "stream",
          "name": "stdout",
          "text": [
            "              precision    recall  f1-score   support\n",
            "\n",
            "           0       1.00      0.84      0.91        19\n",
            "           1       0.89      0.76      0.82        21\n",
            "           2       1.00      1.00      1.00         6\n",
            "           3       1.00      0.93      0.96        14\n",
            "           4       1.00      1.00      1.00        21\n",
            "           5       1.00      0.75      0.86         8\n",
            "           6       0.90      1.00      0.95        19\n",
            "           7       0.80      1.00      0.89         4\n",
            "           8       1.00      1.00      1.00        15\n",
            "           9       1.00      1.00      1.00        12\n",
            "          10       0.77      0.94      0.85        18\n",
            "          11       1.00      0.86      0.92        14\n",
            "          12       1.00      1.00      1.00        15\n",
            "          13       1.00      1.00      1.00        19\n",
            "          14       1.00      1.00      1.00        31\n",
            "          15       1.00      1.00      1.00         8\n",
            "          16       0.70      1.00      0.82        28\n",
            "          17       1.00      0.75      0.86         4\n",
            "          18       0.80      0.80      0.80         5\n",
            "          19       1.00      1.00      1.00         3\n",
            "          20       1.00      1.00      1.00        14\n",
            "          21       1.00      1.00      1.00        21\n",
            "          22       1.00      1.00      1.00        40\n",
            "          23       1.00      1.00      1.00         5\n",
            "          24       1.00      1.00      1.00        26\n",
            "          25       1.00      0.63      0.77        19\n",
            "\n",
            "    accuracy                           0.94       409\n",
            "   macro avg       0.96      0.93      0.94       409\n",
            "weighted avg       0.95      0.94      0.94       409\n",
            "\n"
          ]
        }
      ],
      "source": [
        "from sklearn import metrics\n",
        "clf=metrics.classification_report(y_test,y_pred)\n",
        "print(clf)"
      ]
    },
    {
      "cell_type": "code",
      "source": [
        "from sklearn.metrics import precision_score"
      ],
      "metadata": {
        "id": "2BhzVbPSuEWx"
      },
      "execution_count": null,
      "outputs": []
    },
    {
      "cell_type": "code",
      "source": [
        "svm_precision = precision_score(y_test, y_pred, average='weighted')\n",
        "# knn_precision = precision_score(y_test, knn_pred, average='weighted')\n",
        "# dt_precision = precision_score(y_test, dt_pred, average='weighted')\n",
        "# rf_precision = precision_score(y_test, rf_pred, average='weighted')"
      ],
      "metadata": {
        "id": "3ZuhcP4BvHUA"
      },
      "execution_count": null,
      "outputs": []
    },
    {
      "cell_type": "code",
      "source": [
        "print(svm_precision)"
      ],
      "metadata": {
        "colab": {
          "base_uri": "https://localhost:8080/"
        },
        "id": "fHiCM5W0vevx",
        "outputId": "726b53c1-33bd-499b-83be-2565b7693375"
      },
      "execution_count": null,
      "outputs": [
        {
          "output_type": "stream",
          "name": "stdout",
          "text": [
            "0.954929666910107\n"
          ]
        }
      ]
    },
    {
      "cell_type": "markdown",
      "metadata": {
        "id": "wQETDPpOBhEd"
      },
      "source": [
        "#Random Forest Classifier"
      ]
    },
    {
      "cell_type": "code",
      "execution_count": null,
      "metadata": {
        "id": "iid7NOb6wlnn"
      },
      "outputs": [],
      "source": [
        "from sklearn.ensemble import RandomForestClassifier\n",
        "RF=RandomForestClassifier()"
      ]
    },
    {
      "cell_type": "code",
      "execution_count": null,
      "metadata": {
        "colab": {
          "base_uri": "https://localhost:8080/",
          "height": 74
        },
        "id": "-p_tSeA8xb51",
        "outputId": "4bde7afe-2a6b-405e-8eed-53ce50424575"
      },
      "outputs": [
        {
          "output_type": "execute_result",
          "data": {
            "text/plain": [
              "RandomForestClassifier()"
            ],
            "text/html": [
              "<style>#sk-container-id-2 {color: black;}#sk-container-id-2 pre{padding: 0;}#sk-container-id-2 div.sk-toggleable {background-color: white;}#sk-container-id-2 label.sk-toggleable__label {cursor: pointer;display: block;width: 100%;margin-bottom: 0;padding: 0.3em;box-sizing: border-box;text-align: center;}#sk-container-id-2 label.sk-toggleable__label-arrow:before {content: \"▸\";float: left;margin-right: 0.25em;color: #696969;}#sk-container-id-2 label.sk-toggleable__label-arrow:hover:before {color: black;}#sk-container-id-2 div.sk-estimator:hover label.sk-toggleable__label-arrow:before {color: black;}#sk-container-id-2 div.sk-toggleable__content {max-height: 0;max-width: 0;overflow: hidden;text-align: left;background-color: #f0f8ff;}#sk-container-id-2 div.sk-toggleable__content pre {margin: 0.2em;color: black;border-radius: 0.25em;background-color: #f0f8ff;}#sk-container-id-2 input.sk-toggleable__control:checked~div.sk-toggleable__content {max-height: 200px;max-width: 100%;overflow: auto;}#sk-container-id-2 input.sk-toggleable__control:checked~label.sk-toggleable__label-arrow:before {content: \"▾\";}#sk-container-id-2 div.sk-estimator input.sk-toggleable__control:checked~label.sk-toggleable__label {background-color: #d4ebff;}#sk-container-id-2 div.sk-label input.sk-toggleable__control:checked~label.sk-toggleable__label {background-color: #d4ebff;}#sk-container-id-2 input.sk-hidden--visually {border: 0;clip: rect(1px 1px 1px 1px);clip: rect(1px, 1px, 1px, 1px);height: 1px;margin: -1px;overflow: hidden;padding: 0;position: absolute;width: 1px;}#sk-container-id-2 div.sk-estimator {font-family: monospace;background-color: #f0f8ff;border: 1px dotted black;border-radius: 0.25em;box-sizing: border-box;margin-bottom: 0.5em;}#sk-container-id-2 div.sk-estimator:hover {background-color: #d4ebff;}#sk-container-id-2 div.sk-parallel-item::after {content: \"\";width: 100%;border-bottom: 1px solid gray;flex-grow: 1;}#sk-container-id-2 div.sk-label:hover label.sk-toggleable__label {background-color: #d4ebff;}#sk-container-id-2 div.sk-serial::before {content: \"\";position: absolute;border-left: 1px solid gray;box-sizing: border-box;top: 0;bottom: 0;left: 50%;z-index: 0;}#sk-container-id-2 div.sk-serial {display: flex;flex-direction: column;align-items: center;background-color: white;padding-right: 0.2em;padding-left: 0.2em;position: relative;}#sk-container-id-2 div.sk-item {position: relative;z-index: 1;}#sk-container-id-2 div.sk-parallel {display: flex;align-items: stretch;justify-content: center;background-color: white;position: relative;}#sk-container-id-2 div.sk-item::before, #sk-container-id-2 div.sk-parallel-item::before {content: \"\";position: absolute;border-left: 1px solid gray;box-sizing: border-box;top: 0;bottom: 0;left: 50%;z-index: -1;}#sk-container-id-2 div.sk-parallel-item {display: flex;flex-direction: column;z-index: 1;position: relative;background-color: white;}#sk-container-id-2 div.sk-parallel-item:first-child::after {align-self: flex-end;width: 50%;}#sk-container-id-2 div.sk-parallel-item:last-child::after {align-self: flex-start;width: 50%;}#sk-container-id-2 div.sk-parallel-item:only-child::after {width: 0;}#sk-container-id-2 div.sk-dashed-wrapped {border: 1px dashed gray;margin: 0 0.4em 0.5em 0.4em;box-sizing: border-box;padding-bottom: 0.4em;background-color: white;}#sk-container-id-2 div.sk-label label {font-family: monospace;font-weight: bold;display: inline-block;line-height: 1.2em;}#sk-container-id-2 div.sk-label-container {text-align: center;}#sk-container-id-2 div.sk-container {/* jupyter's `normalize.less` sets `[hidden] { display: none; }` but bootstrap.min.css set `[hidden] { display: none !important; }` so we also need the `!important` here to be able to override the default hidden behavior on the sphinx rendered scikit-learn.org. See: https://github.com/scikit-learn/scikit-learn/issues/21755 */display: inline-block !important;position: relative;}#sk-container-id-2 div.sk-text-repr-fallback {display: none;}</style><div id=\"sk-container-id-2\" class=\"sk-top-container\"><div class=\"sk-text-repr-fallback\"><pre>RandomForestClassifier()</pre><b>In a Jupyter environment, please rerun this cell to show the HTML representation or trust the notebook. <br />On GitHub, the HTML representation is unable to render, please try loading this page with nbviewer.org.</b></div><div class=\"sk-container\" hidden><div class=\"sk-item\"><div class=\"sk-estimator sk-toggleable\"><input class=\"sk-toggleable__control sk-hidden--visually\" id=\"sk-estimator-id-2\" type=\"checkbox\" checked><label for=\"sk-estimator-id-2\" class=\"sk-toggleable__label sk-toggleable__label-arrow\">RandomForestClassifier</label><div class=\"sk-toggleable__content\"><pre>RandomForestClassifier()</pre></div></div></div></div></div>"
            ]
          },
          "metadata": {},
          "execution_count": 16
        }
      ],
      "source": [
        "RF.fit(X_train,y_train)"
      ]
    },
    {
      "cell_type": "code",
      "execution_count": null,
      "metadata": {
        "colab": {
          "base_uri": "https://localhost:8080/"
        },
        "id": "WC2t3bMk2htt",
        "outputId": "3f2764dd-20ce-4b8f-bad6-6795776220d7"
      },
      "outputs": [
        {
          "output_type": "execute_result",
          "data": {
            "text/plain": [
              "0.9437652811735942"
            ]
          },
          "metadata": {},
          "execution_count": 17
        }
      ],
      "source": [
        "RF.score(X_test,y_test)"
      ]
    },
    {
      "cell_type": "code",
      "execution_count": null,
      "metadata": {
        "colab": {
          "base_uri": "https://localhost:8080/"
        },
        "id": "1VgOMz49xoxR",
        "outputId": "2c08b2f3-3ee6-481d-a1cd-7685fc175f22"
      },
      "outputs": [
        {
          "output_type": "execute_result",
          "data": {
            "text/plain": [
              "array([13,  4,  4, 22, 22, 15, 23, 22,  8, 14, 24, 11, 10, 14, 14, 12, 18,\n",
              "        4,  9,  6, 22, 16, 10, 13, 11, 22,  4, 21,  6, 16, 14,  3, 23, 22,\n",
              "       12,  3,  9, 25,  1, 22, 22, 15,  1,  4,  2, 20, 11, 15, 15, 10, 21,\n",
              "       22, 12, 10, 16, 13, 13,  8,  3,  9,  3, 16,  3, 11, 24,  4, 24, 12,\n",
              "       22,  1,  8, 19,  0, 22, 10, 14, 21, 24, 24,  6, 14, 16,  9, 14,  9,\n",
              "       25, 14, 24, 22, 16,  4,  6,  3, 16, 21,  0, 14, 10,  6,  0, 10,  6,\n",
              "        1, 24, 14, 13, 21, 16, 10, 22, 12,  9,  1, 22, 20, 14, 16, 20, 16,\n",
              "       25,  1,  3, 12,  3,  2, 11, 22, 14, 16, 22, 18, 21, 24, 24,  0,  4,\n",
              "       22,  9,  2, 22, 25,  6, 24,  6, 24, 13, 15,  5, 12, 11,  8, 22, 21,\n",
              "       16, 11,  8,  6, 11, 14, 16, 14,  4, 25, 21,  9, 16, 16, 10,  8,  1,\n",
              "       21,  0,  4, 24, 22,  3, 19, 25, 24,  6,  9, 22,  6, 14, 25, 14, 20,\n",
              "       22,  4, 10, 14,  1, 17, 20, 17, 16, 22, 16, 10, 12,  4,  5, 16,  4,\n",
              "       10,  8, 22, 22, 22,  6, 12,  0, 16, 24,  4, 21, 21, 14,  1,  1, 13,\n",
              "        2, 24,  1, 16, 11, 13,  0, 12, 20, 20, 22, 13, 16,  6, 20, 16, 12,\n",
              "       13, 16,  4,  8, 13,  4, 22,  1,  4,  0, 25, 20,  8, 22,  2, 25, 14,\n",
              "       11,  1,  0,  0,  9, 24, 25, 14, 12,  4, 12, 16, 22, 11, 24, 14,  1,\n",
              "       21, 10, 16, 14,  0,  6,  1,  8, 21, 24, 16, 22, 10, 13, 14,  5,  8,\n",
              "       16, 21,  3,  9, 16, 13, 13,  7, 14, 13, 10, 21, 16, 22, 18, 14, 24,\n",
              "       25, 13, 24, 16,  3, 10,  6, 24, 22,  7, 22, 17,  3,  5, 11, 24, 16,\n",
              "        5, 14, 10,  0, 21, 22, 16, 15, 12,  0, 21,  4, 22, 18,  4, 15, 20,\n",
              "       22, 16,  8, 23, 21,  7, 23, 16, 10, 13,  8, 22,  6, 14,  6, 16, 21,\n",
              "       24,  9, 20,  6, 25, 13, 16,  5,  7, 24, 21, 10, 20, 23,  7,  8, 13,\n",
              "        4,  1,  0,  0, 10, 19, 14, 10, 15, 14, 16,  3,  0,  6, 14,  6, 16,\n",
              "       18, 24,  2, 21, 20, 22, 22, 14, 10,  8,  1, 16, 20,  1, 12,  6, 16,\n",
              "       24])"
            ]
          },
          "metadata": {},
          "execution_count": 18
        }
      ],
      "source": [
        "RF.predict(X_test)"
      ]
    },
    {
      "cell_type": "code",
      "execution_count": null,
      "metadata": {
        "id": "Z_Tswdb3yOpU"
      },
      "outputs": [],
      "source": [
        "y_pred1=RF.predict(X_test)"
      ]
    },
    {
      "cell_type": "code",
      "execution_count": null,
      "metadata": {
        "colab": {
          "base_uri": "https://localhost:8080/"
        },
        "id": "AumNfFxZ1g8h",
        "outputId": "c469285e-188b-4857-fad7-4f8ee2e93f2c"
      },
      "outputs": [
        {
          "output_type": "stream",
          "name": "stdout",
          "text": [
            "              precision    recall  f1-score   support\n",
            "\n",
            "           0       1.00      0.84      0.91        19\n",
            "           1       0.89      0.76      0.82        21\n",
            "           2       1.00      1.00      1.00         6\n",
            "           3       1.00      0.93      0.96        14\n",
            "           4       1.00      1.00      1.00        21\n",
            "           5       1.00      0.75      0.86         8\n",
            "           6       0.90      1.00      0.95        19\n",
            "           7       0.80      1.00      0.89         4\n",
            "           8       1.00      1.00      1.00        15\n",
            "           9       1.00      1.00      1.00        12\n",
            "          10       0.77      0.94      0.85        18\n",
            "          11       1.00      0.86      0.92        14\n",
            "          12       1.00      1.00      1.00        15\n",
            "          13       1.00      1.00      1.00        19\n",
            "          14       1.00      1.00      1.00        31\n",
            "          15       1.00      1.00      1.00         8\n",
            "          16       0.70      1.00      0.82        28\n",
            "          17       1.00      0.75      0.86         4\n",
            "          18       0.80      0.80      0.80         5\n",
            "          19       1.00      1.00      1.00         3\n",
            "          20       1.00      1.00      1.00        14\n",
            "          21       1.00      1.00      1.00        21\n",
            "          22       1.00      1.00      1.00        40\n",
            "          23       1.00      1.00      1.00         5\n",
            "          24       1.00      1.00      1.00        26\n",
            "          25       1.00      0.63      0.77        19\n",
            "\n",
            "    accuracy                           0.94       409\n",
            "   macro avg       0.96      0.93      0.94       409\n",
            "weighted avg       0.95      0.94      0.94       409\n",
            "\n"
          ]
        }
      ],
      "source": [
        "clf=metrics.classification_report(y_test,y_pred1)\n",
        "print(clf)"
      ]
    },
    {
      "cell_type": "code",
      "source": [
        "# svm_precision = precision_score(y_test, svm_pred, average='weighted')\n",
        "# knn_precision = precision_score(y_test, knn_pred, average='weighted')\n",
        "# dt_precision = precision_score(y_test, dt_pred, average='weighted')\n",
        "rf_precision = precision_score(y_test,y_pred1, average='weighted')"
      ],
      "metadata": {
        "id": "7Awwjka3xsOL"
      },
      "execution_count": null,
      "outputs": []
    },
    {
      "cell_type": "code",
      "source": [
        "print(rf_precision)"
      ],
      "metadata": {
        "colab": {
          "base_uri": "https://localhost:8080/"
        },
        "id": "99N4G6ZNx6wB",
        "outputId": "d6e197b2-6842-459f-e6cc-a0a48e573962"
      },
      "execution_count": null,
      "outputs": [
        {
          "output_type": "stream",
          "name": "stdout",
          "text": [
            "0.954929666910107\n"
          ]
        }
      ]
    },
    {
      "cell_type": "markdown",
      "metadata": {
        "id": "kPgTCNSaBntG"
      },
      "source": [
        "#Decision Tree"
      ]
    },
    {
      "cell_type": "code",
      "execution_count": null,
      "metadata": {
        "id": "zECXPGVQBxmR"
      },
      "outputs": [],
      "source": [
        "from sklearn.tree import DecisionTreeClassifier\n",
        "DF=DecisionTreeClassifier()"
      ]
    },
    {
      "cell_type": "code",
      "execution_count": null,
      "metadata": {
        "colab": {
          "base_uri": "https://localhost:8080/",
          "height": 74
        },
        "id": "0L5eVO5XDJmj",
        "outputId": "494a0c64-79fe-4118-fb08-9d8557cf3ee1"
      },
      "outputs": [
        {
          "output_type": "execute_result",
          "data": {
            "text/plain": [
              "DecisionTreeClassifier()"
            ],
            "text/html": [
              "<style>#sk-container-id-3 {color: black;}#sk-container-id-3 pre{padding: 0;}#sk-container-id-3 div.sk-toggleable {background-color: white;}#sk-container-id-3 label.sk-toggleable__label {cursor: pointer;display: block;width: 100%;margin-bottom: 0;padding: 0.3em;box-sizing: border-box;text-align: center;}#sk-container-id-3 label.sk-toggleable__label-arrow:before {content: \"▸\";float: left;margin-right: 0.25em;color: #696969;}#sk-container-id-3 label.sk-toggleable__label-arrow:hover:before {color: black;}#sk-container-id-3 div.sk-estimator:hover label.sk-toggleable__label-arrow:before {color: black;}#sk-container-id-3 div.sk-toggleable__content {max-height: 0;max-width: 0;overflow: hidden;text-align: left;background-color: #f0f8ff;}#sk-container-id-3 div.sk-toggleable__content pre {margin: 0.2em;color: black;border-radius: 0.25em;background-color: #f0f8ff;}#sk-container-id-3 input.sk-toggleable__control:checked~div.sk-toggleable__content {max-height: 200px;max-width: 100%;overflow: auto;}#sk-container-id-3 input.sk-toggleable__control:checked~label.sk-toggleable__label-arrow:before {content: \"▾\";}#sk-container-id-3 div.sk-estimator input.sk-toggleable__control:checked~label.sk-toggleable__label {background-color: #d4ebff;}#sk-container-id-3 div.sk-label input.sk-toggleable__control:checked~label.sk-toggleable__label {background-color: #d4ebff;}#sk-container-id-3 input.sk-hidden--visually {border: 0;clip: rect(1px 1px 1px 1px);clip: rect(1px, 1px, 1px, 1px);height: 1px;margin: -1px;overflow: hidden;padding: 0;position: absolute;width: 1px;}#sk-container-id-3 div.sk-estimator {font-family: monospace;background-color: #f0f8ff;border: 1px dotted black;border-radius: 0.25em;box-sizing: border-box;margin-bottom: 0.5em;}#sk-container-id-3 div.sk-estimator:hover {background-color: #d4ebff;}#sk-container-id-3 div.sk-parallel-item::after {content: \"\";width: 100%;border-bottom: 1px solid gray;flex-grow: 1;}#sk-container-id-3 div.sk-label:hover label.sk-toggleable__label {background-color: #d4ebff;}#sk-container-id-3 div.sk-serial::before {content: \"\";position: absolute;border-left: 1px solid gray;box-sizing: border-box;top: 0;bottom: 0;left: 50%;z-index: 0;}#sk-container-id-3 div.sk-serial {display: flex;flex-direction: column;align-items: center;background-color: white;padding-right: 0.2em;padding-left: 0.2em;position: relative;}#sk-container-id-3 div.sk-item {position: relative;z-index: 1;}#sk-container-id-3 div.sk-parallel {display: flex;align-items: stretch;justify-content: center;background-color: white;position: relative;}#sk-container-id-3 div.sk-item::before, #sk-container-id-3 div.sk-parallel-item::before {content: \"\";position: absolute;border-left: 1px solid gray;box-sizing: border-box;top: 0;bottom: 0;left: 50%;z-index: -1;}#sk-container-id-3 div.sk-parallel-item {display: flex;flex-direction: column;z-index: 1;position: relative;background-color: white;}#sk-container-id-3 div.sk-parallel-item:first-child::after {align-self: flex-end;width: 50%;}#sk-container-id-3 div.sk-parallel-item:last-child::after {align-self: flex-start;width: 50%;}#sk-container-id-3 div.sk-parallel-item:only-child::after {width: 0;}#sk-container-id-3 div.sk-dashed-wrapped {border: 1px dashed gray;margin: 0 0.4em 0.5em 0.4em;box-sizing: border-box;padding-bottom: 0.4em;background-color: white;}#sk-container-id-3 div.sk-label label {font-family: monospace;font-weight: bold;display: inline-block;line-height: 1.2em;}#sk-container-id-3 div.sk-label-container {text-align: center;}#sk-container-id-3 div.sk-container {/* jupyter's `normalize.less` sets `[hidden] { display: none; }` but bootstrap.min.css set `[hidden] { display: none !important; }` so we also need the `!important` here to be able to override the default hidden behavior on the sphinx rendered scikit-learn.org. See: https://github.com/scikit-learn/scikit-learn/issues/21755 */display: inline-block !important;position: relative;}#sk-container-id-3 div.sk-text-repr-fallback {display: none;}</style><div id=\"sk-container-id-3\" class=\"sk-top-container\"><div class=\"sk-text-repr-fallback\"><pre>DecisionTreeClassifier()</pre><b>In a Jupyter environment, please rerun this cell to show the HTML representation or trust the notebook. <br />On GitHub, the HTML representation is unable to render, please try loading this page with nbviewer.org.</b></div><div class=\"sk-container\" hidden><div class=\"sk-item\"><div class=\"sk-estimator sk-toggleable\"><input class=\"sk-toggleable__control sk-hidden--visually\" id=\"sk-estimator-id-3\" type=\"checkbox\" checked><label for=\"sk-estimator-id-3\" class=\"sk-toggleable__label sk-toggleable__label-arrow\">DecisionTreeClassifier</label><div class=\"sk-toggleable__content\"><pre>DecisionTreeClassifier()</pre></div></div></div></div></div>"
            ]
          },
          "metadata": {},
          "execution_count": 24
        }
      ],
      "source": [
        "DF.fit(X_train,y_train)"
      ]
    },
    {
      "cell_type": "code",
      "execution_count": null,
      "metadata": {
        "id": "LSeVqssxDSA9"
      },
      "outputs": [],
      "source": [
        "y_pred2=DF.predict(X_test)"
      ]
    },
    {
      "cell_type": "code",
      "execution_count": null,
      "metadata": {
        "colab": {
          "base_uri": "https://localhost:8080/"
        },
        "id": "eQ_tim6XCU4O",
        "outputId": "55d1ba33-2b2a-4389-efdd-765d97f18505"
      },
      "outputs": [
        {
          "output_type": "execute_result",
          "data": {
            "text/plain": [
              "0.9511002444987775"
            ]
          },
          "metadata": {},
          "execution_count": 26
        }
      ],
      "source": [
        "DF.score(X_test,y_test)"
      ]
    },
    {
      "cell_type": "code",
      "execution_count": null,
      "metadata": {
        "colab": {
          "base_uri": "https://localhost:8080/"
        },
        "id": "GlzWKwEQK9AL",
        "outputId": "10bc5325-5bf0-4463-d1c7-66a86ac14b99"
      },
      "outputs": [
        {
          "output_type": "stream",
          "name": "stdout",
          "text": [
            "              precision    recall  f1-score   support\n",
            "\n",
            "           0       1.00      0.84      0.91        19\n",
            "           1       0.91      0.95      0.93        21\n",
            "           2       1.00      1.00      1.00         6\n",
            "           3       1.00      0.93      0.96        14\n",
            "           4       1.00      1.00      1.00        21\n",
            "           5       1.00      0.75      0.86         8\n",
            "           6       0.90      1.00      0.95        19\n",
            "           7       0.80      1.00      0.89         4\n",
            "           8       1.00      1.00      1.00        15\n",
            "           9       1.00      1.00      1.00        12\n",
            "          10       0.94      0.94      0.94        18\n",
            "          11       1.00      0.86      0.92        14\n",
            "          12       1.00      1.00      1.00        15\n",
            "          13       1.00      1.00      1.00        19\n",
            "          14       1.00      1.00      1.00        31\n",
            "          15       1.00      1.00      1.00         8\n",
            "          16       0.70      1.00      0.82        28\n",
            "          17       0.67      1.00      0.80         4\n",
            "          18       1.00      0.40      0.57         5\n",
            "          19       1.00      1.00      1.00         3\n",
            "          20       1.00      1.00      1.00        14\n",
            "          21       1.00      1.00      1.00        21\n",
            "          22       1.00      1.00      1.00        40\n",
            "          23       1.00      1.00      1.00         5\n",
            "          24       1.00      1.00      1.00        26\n",
            "          25       1.00      0.63      0.77        19\n",
            "\n",
            "    accuracy                           0.95       409\n",
            "   macro avg       0.96      0.93      0.94       409\n",
            "weighted avg       0.96      0.95      0.95       409\n",
            "\n"
          ]
        }
      ],
      "source": [
        "clf=metrics.classification_report(y_test,y_pred2)\n",
        "print(clf)"
      ]
    },
    {
      "cell_type": "code",
      "source": [
        "# svm_precision = precision_score(y_test, svm_pred, average='weighted')\n",
        "# knn_precision = precision_score(y_test, knn_pred, average='weighted')\n",
        "dt_precision = precision_score(y_test, y_pred2, average='weighted')\n",
        "# rf_precision = precision_score(y_test, rf_pred, average='weighted')"
      ],
      "metadata": {
        "id": "aKvMis8QyS1R"
      },
      "execution_count": null,
      "outputs": []
    },
    {
      "cell_type": "code",
      "source": [
        "print(dt_precision)"
      ],
      "metadata": {
        "colab": {
          "base_uri": "https://localhost:8080/"
        },
        "id": "EqW25vByyZkq",
        "outputId": "5000c069-4b1e-4119-e1bf-9295ea562c57"
      },
      "execution_count": null,
      "outputs": [
        {
          "output_type": "stream",
          "name": "stdout",
          "text": [
            "0.9627091734671197\n"
          ]
        }
      ]
    },
    {
      "cell_type": "markdown",
      "metadata": {
        "id": "H6cGeGHmL8hT"
      },
      "source": [
        "#KNN"
      ]
    },
    {
      "cell_type": "code",
      "execution_count": null,
      "metadata": {
        "colab": {
          "base_uri": "https://localhost:8080/",
          "height": 74
        },
        "id": "ie_9FBzSLU9m",
        "outputId": "baa729f7-8e2b-41ed-eba8-333e2644cdcd"
      },
      "outputs": [
        {
          "output_type": "execute_result",
          "data": {
            "text/plain": [
              "KNeighborsClassifier(n_neighbors=2)"
            ],
            "text/html": [
              "<style>#sk-container-id-4 {color: black;}#sk-container-id-4 pre{padding: 0;}#sk-container-id-4 div.sk-toggleable {background-color: white;}#sk-container-id-4 label.sk-toggleable__label {cursor: pointer;display: block;width: 100%;margin-bottom: 0;padding: 0.3em;box-sizing: border-box;text-align: center;}#sk-container-id-4 label.sk-toggleable__label-arrow:before {content: \"▸\";float: left;margin-right: 0.25em;color: #696969;}#sk-container-id-4 label.sk-toggleable__label-arrow:hover:before {color: black;}#sk-container-id-4 div.sk-estimator:hover label.sk-toggleable__label-arrow:before {color: black;}#sk-container-id-4 div.sk-toggleable__content {max-height: 0;max-width: 0;overflow: hidden;text-align: left;background-color: #f0f8ff;}#sk-container-id-4 div.sk-toggleable__content pre {margin: 0.2em;color: black;border-radius: 0.25em;background-color: #f0f8ff;}#sk-container-id-4 input.sk-toggleable__control:checked~div.sk-toggleable__content {max-height: 200px;max-width: 100%;overflow: auto;}#sk-container-id-4 input.sk-toggleable__control:checked~label.sk-toggleable__label-arrow:before {content: \"▾\";}#sk-container-id-4 div.sk-estimator input.sk-toggleable__control:checked~label.sk-toggleable__label {background-color: #d4ebff;}#sk-container-id-4 div.sk-label input.sk-toggleable__control:checked~label.sk-toggleable__label {background-color: #d4ebff;}#sk-container-id-4 input.sk-hidden--visually {border: 0;clip: rect(1px 1px 1px 1px);clip: rect(1px, 1px, 1px, 1px);height: 1px;margin: -1px;overflow: hidden;padding: 0;position: absolute;width: 1px;}#sk-container-id-4 div.sk-estimator {font-family: monospace;background-color: #f0f8ff;border: 1px dotted black;border-radius: 0.25em;box-sizing: border-box;margin-bottom: 0.5em;}#sk-container-id-4 div.sk-estimator:hover {background-color: #d4ebff;}#sk-container-id-4 div.sk-parallel-item::after {content: \"\";width: 100%;border-bottom: 1px solid gray;flex-grow: 1;}#sk-container-id-4 div.sk-label:hover label.sk-toggleable__label {background-color: #d4ebff;}#sk-container-id-4 div.sk-serial::before {content: \"\";position: absolute;border-left: 1px solid gray;box-sizing: border-box;top: 0;bottom: 0;left: 50%;z-index: 0;}#sk-container-id-4 div.sk-serial {display: flex;flex-direction: column;align-items: center;background-color: white;padding-right: 0.2em;padding-left: 0.2em;position: relative;}#sk-container-id-4 div.sk-item {position: relative;z-index: 1;}#sk-container-id-4 div.sk-parallel {display: flex;align-items: stretch;justify-content: center;background-color: white;position: relative;}#sk-container-id-4 div.sk-item::before, #sk-container-id-4 div.sk-parallel-item::before {content: \"\";position: absolute;border-left: 1px solid gray;box-sizing: border-box;top: 0;bottom: 0;left: 50%;z-index: -1;}#sk-container-id-4 div.sk-parallel-item {display: flex;flex-direction: column;z-index: 1;position: relative;background-color: white;}#sk-container-id-4 div.sk-parallel-item:first-child::after {align-self: flex-end;width: 50%;}#sk-container-id-4 div.sk-parallel-item:last-child::after {align-self: flex-start;width: 50%;}#sk-container-id-4 div.sk-parallel-item:only-child::after {width: 0;}#sk-container-id-4 div.sk-dashed-wrapped {border: 1px dashed gray;margin: 0 0.4em 0.5em 0.4em;box-sizing: border-box;padding-bottom: 0.4em;background-color: white;}#sk-container-id-4 div.sk-label label {font-family: monospace;font-weight: bold;display: inline-block;line-height: 1.2em;}#sk-container-id-4 div.sk-label-container {text-align: center;}#sk-container-id-4 div.sk-container {/* jupyter's `normalize.less` sets `[hidden] { display: none; }` but bootstrap.min.css set `[hidden] { display: none !important; }` so we also need the `!important` here to be able to override the default hidden behavior on the sphinx rendered scikit-learn.org. See: https://github.com/scikit-learn/scikit-learn/issues/21755 */display: inline-block !important;position: relative;}#sk-container-id-4 div.sk-text-repr-fallback {display: none;}</style><div id=\"sk-container-id-4\" class=\"sk-top-container\"><div class=\"sk-text-repr-fallback\"><pre>KNeighborsClassifier(n_neighbors=2)</pre><b>In a Jupyter environment, please rerun this cell to show the HTML representation or trust the notebook. <br />On GitHub, the HTML representation is unable to render, please try loading this page with nbviewer.org.</b></div><div class=\"sk-container\" hidden><div class=\"sk-item\"><div class=\"sk-estimator sk-toggleable\"><input class=\"sk-toggleable__control sk-hidden--visually\" id=\"sk-estimator-id-4\" type=\"checkbox\" checked><label for=\"sk-estimator-id-4\" class=\"sk-toggleable__label sk-toggleable__label-arrow\">KNeighborsClassifier</label><div class=\"sk-toggleable__content\"><pre>KNeighborsClassifier(n_neighbors=2)</pre></div></div></div></div></div>"
            ]
          },
          "metadata": {},
          "execution_count": 30
        }
      ],
      "source": [
        "from sklearn.neighbors import KNeighborsClassifier\n",
        "classifier= KNeighborsClassifier(n_neighbors=2, metric='minkowski', p=2)\n",
        "classifier.fit(X_train, y_train)"
      ]
    },
    {
      "cell_type": "code",
      "execution_count": null,
      "metadata": {
        "id": "UKLqsTcFXw3M"
      },
      "outputs": [],
      "source": [
        "y_pred3=classifier.predict(X_test)"
      ]
    },
    {
      "cell_type": "code",
      "execution_count": null,
      "metadata": {
        "colab": {
          "base_uri": "https://localhost:8080/"
        },
        "id": "K_qJk2y2MJ5m",
        "outputId": "9e8f3869-3973-4a96-d8a3-5c02f576d638"
      },
      "outputs": [
        {
          "output_type": "execute_result",
          "data": {
            "text/plain": [
              "0.9095354523227384"
            ]
          },
          "metadata": {},
          "execution_count": 32
        }
      ],
      "source": [
        "classifier.score(X_test,y_test)"
      ]
    },
    {
      "cell_type": "code",
      "execution_count": null,
      "metadata": {
        "colab": {
          "base_uri": "https://localhost:8080/"
        },
        "id": "ydMWS1upPUo4",
        "outputId": "b3120ba4-5bf8-4e9d-cc9f-f17baad05687"
      },
      "outputs": [
        {
          "output_type": "stream",
          "name": "stdout",
          "text": [
            "              precision    recall  f1-score   support\n",
            "\n",
            "           0       0.61      1.00      0.76        19\n",
            "           1       0.91      0.95      0.93        21\n",
            "           2       1.00      1.00      1.00         6\n",
            "           3       1.00      0.71      0.83        14\n",
            "           4       0.88      1.00      0.93        21\n",
            "           5       0.80      1.00      0.89         8\n",
            "           6       1.00      0.89      0.94        19\n",
            "           7       0.80      1.00      0.89         4\n",
            "           8       1.00      1.00      1.00        15\n",
            "           9       1.00      1.00      1.00        12\n",
            "          10       0.94      0.94      0.94        18\n",
            "          11       1.00      0.86      0.92        14\n",
            "          12       1.00      1.00      1.00        15\n",
            "          13       1.00      1.00      1.00        19\n",
            "          14       1.00      1.00      1.00        31\n",
            "          15       1.00      1.00      1.00         8\n",
            "          16       0.60      0.32      0.42        28\n",
            "          17       0.67      1.00      0.80         4\n",
            "          18       1.00      0.40      0.57         5\n",
            "          19       1.00      1.00      1.00         3\n",
            "          20       1.00      1.00      1.00        14\n",
            "          21       1.00      1.00      1.00        21\n",
            "          22       1.00      1.00      1.00        40\n",
            "          23       1.00      1.00      1.00         5\n",
            "          24       1.00      1.00      1.00        26\n",
            "          25       0.64      0.74      0.68        19\n",
            "\n",
            "    accuracy                           0.91       409\n",
            "   macro avg       0.92      0.92      0.90       409\n",
            "weighted avg       0.92      0.91      0.90       409\n",
            "\n"
          ]
        }
      ],
      "source": [
        "clf=metrics.classification_report(y_test,y_pred3)\n",
        "print(clf)"
      ]
    },
    {
      "cell_type": "code",
      "source": [
        "# svm_precision = precision_score(y_test, svm_pred, average='weighted')\n",
        "knn_precision = precision_score(y_test, y_pred3, average='weighted')\n",
        "# dt_precision = precision_score(y_test, dt_pred, average='weighted')\n",
        "# rf_precision = precision_score(y_test, rf_pred, average='weighted')"
      ],
      "metadata": {
        "id": "_z2xBpW1ti9A"
      },
      "execution_count": null,
      "outputs": []
    },
    {
      "cell_type": "code",
      "source": [
        "print(knn_precision)"
      ],
      "metadata": {
        "id": "X_niBInCyvMs",
        "outputId": "19e3a055-380f-4580-9f82-cf7f4a2caaac",
        "colab": {
          "base_uri": "https://localhost:8080/"
        }
      },
      "execution_count": null,
      "outputs": [
        {
          "output_type": "stream",
          "name": "stdout",
          "text": [
            "0.9150822643980622\n"
          ]
        }
      ]
    },
    {
      "cell_type": "code",
      "execution_count": null,
      "metadata": {
        "colab": {
          "base_uri": "https://localhost:8080/"
        },
        "id": "UzPI_WVBh9ud",
        "outputId": "95194140-55ce-4340-ad05-d89c2ef4d83c"
      },
      "outputs": [
        {
          "output_type": "execute_result",
          "data": {
            "text/plain": [
              "array([13,  4,  4, 22, 22, 15, 23, 22,  8, 14, 24, 11, 10, 14, 14, 12, 18,\n",
              "        4,  9,  6, 22, 16, 10, 13, 11, 22,  4, 21,  6, 16, 14,  3, 23, 22,\n",
              "       12,  3,  9, 25,  1, 22, 22, 15,  1,  4,  2, 20, 11, 15, 15, 10, 21,\n",
              "       22, 12, 10, 16, 13, 13,  8,  3,  9,  3, 16,  3, 11, 24,  4, 24, 12,\n",
              "       22,  1,  8, 19,  0, 22, 10, 14, 21, 24, 24,  6, 14, 16,  9, 14,  9,\n",
              "       25, 14, 24, 22, 16,  4,  6,  3, 16, 21,  0, 14, 10,  6,  0, 10,  6,\n",
              "        1, 24, 14, 13, 21, 16, 10, 22, 12,  9,  1, 22, 20, 14, 16, 20, 16,\n",
              "       25,  1,  3, 12,  3,  2, 11, 22, 14, 16, 22, 18, 21, 24, 24,  0,  4,\n",
              "       22,  9,  2, 22, 25,  6, 24,  6, 24, 13, 15,  5, 12, 11,  8, 22, 21,\n",
              "       16, 11,  8,  6, 11, 14, 16, 14,  4, 25, 21,  9, 16, 16, 10,  8,  1,\n",
              "       21,  0,  4, 24, 22,  3, 19, 25, 24,  6,  9, 22,  6, 14, 25, 14, 20,\n",
              "       22,  4, 10, 14,  1, 17, 20, 17, 16, 22, 16, 10, 12,  4,  5, 16,  4,\n",
              "       10,  8, 22, 22, 22,  6, 12,  0, 16, 24,  4, 21, 21, 14,  1,  1, 13,\n",
              "        2, 24,  1, 16, 11, 13,  0, 12, 20, 20, 22, 13, 16,  6, 20, 16, 12,\n",
              "       13, 16,  4,  8, 13,  4, 22,  1,  4,  0, 25, 20,  8, 22,  2, 25, 14,\n",
              "       11,  1,  0,  0,  9, 24, 25, 14, 12,  4, 12, 16, 22, 11, 24, 14,  1,\n",
              "       21, 10, 16, 14,  0,  6,  1,  8, 21, 24, 16, 22, 10, 13, 14,  5,  8,\n",
              "       16, 21,  3,  9, 16, 13, 13,  7, 14, 13, 10, 21, 16, 22, 18, 14, 24,\n",
              "       25, 13, 24, 16,  3, 10,  6, 24, 22,  7, 22, 17,  3,  5, 11, 24, 16,\n",
              "        5, 14, 10,  0, 21, 22, 16, 15, 12,  0, 21,  4, 22, 18,  4, 15, 20,\n",
              "       22, 16,  8, 23, 21,  7, 23, 16, 10, 13,  8, 22,  6, 14,  6, 16, 21,\n",
              "       24,  9, 20,  6, 25, 13, 16,  5,  7, 24, 21, 10, 20, 23,  7,  8, 13,\n",
              "        4,  1,  0,  0, 10, 19, 14, 10, 15, 14, 16,  3,  0,  6, 14,  6, 16,\n",
              "       18, 24,  2, 21, 20, 22, 22, 14, 10,  8,  1, 16, 20,  1, 12,  6, 16,\n",
              "       24])"
            ]
          },
          "metadata": {},
          "execution_count": 36
        }
      ],
      "source": [
        "y_pred"
      ]
    },
    {
      "cell_type": "code",
      "execution_count": null,
      "metadata": {
        "id": "6pGJ2N_sYrhc",
        "colab": {
          "base_uri": "https://localhost:8080/"
        },
        "outputId": "6223083e-9c1f-4a52-f53f-35578383129f"
      },
      "outputs": [
        {
          "output_type": "execute_result",
          "data": {
            "text/plain": [
              "array([[16,  0,  0,  0,  0,  0,  0,  0,  0,  0,  0,  0,  0,  0,  0,  0,\n",
              "         3,  0,  0,  0,  0,  0,  0,  0,  0,  0],\n",
              "       [ 0, 16,  0,  0,  0,  0,  0,  0,  0,  0,  5,  0,  0,  0,  0,  0,\n",
              "         0,  0,  0,  0,  0,  0,  0,  0,  0,  0],\n",
              "       [ 0,  0,  6,  0,  0,  0,  0,  0,  0,  0,  0,  0,  0,  0,  0,  0,\n",
              "         0,  0,  0,  0,  0,  0,  0,  0,  0,  0],\n",
              "       [ 0,  0,  0, 13,  0,  0,  0,  0,  0,  0,  0,  0,  0,  0,  0,  0,\n",
              "         1,  0,  0,  0,  0,  0,  0,  0,  0,  0],\n",
              "       [ 0,  0,  0,  0, 21,  0,  0,  0,  0,  0,  0,  0,  0,  0,  0,  0,\n",
              "         0,  0,  0,  0,  0,  0,  0,  0,  0,  0],\n",
              "       [ 0,  0,  0,  0,  0,  6,  2,  0,  0,  0,  0,  0,  0,  0,  0,  0,\n",
              "         0,  0,  0,  0,  0,  0,  0,  0,  0,  0],\n",
              "       [ 0,  0,  0,  0,  0,  0, 19,  0,  0,  0,  0,  0,  0,  0,  0,  0,\n",
              "         0,  0,  0,  0,  0,  0,  0,  0,  0,  0],\n",
              "       [ 0,  0,  0,  0,  0,  0,  0,  4,  0,  0,  0,  0,  0,  0,  0,  0,\n",
              "         0,  0,  0,  0,  0,  0,  0,  0,  0,  0],\n",
              "       [ 0,  0,  0,  0,  0,  0,  0,  0, 15,  0,  0,  0,  0,  0,  0,  0,\n",
              "         0,  0,  0,  0,  0,  0,  0,  0,  0,  0],\n",
              "       [ 0,  0,  0,  0,  0,  0,  0,  0,  0, 12,  0,  0,  0,  0,  0,  0,\n",
              "         0,  0,  0,  0,  0,  0,  0,  0,  0,  0],\n",
              "       [ 0,  0,  0,  0,  0,  0,  0,  0,  0,  0, 17,  0,  0,  0,  0,  0,\n",
              "         1,  0,  0,  0,  0,  0,  0,  0,  0,  0],\n",
              "       [ 0,  2,  0,  0,  0,  0,  0,  0,  0,  0,  0, 12,  0,  0,  0,  0,\n",
              "         0,  0,  0,  0,  0,  0,  0,  0,  0,  0],\n",
              "       [ 0,  0,  0,  0,  0,  0,  0,  0,  0,  0,  0,  0, 15,  0,  0,  0,\n",
              "         0,  0,  0,  0,  0,  0,  0,  0,  0,  0],\n",
              "       [ 0,  0,  0,  0,  0,  0,  0,  0,  0,  0,  0,  0,  0, 19,  0,  0,\n",
              "         0,  0,  0,  0,  0,  0,  0,  0,  0,  0],\n",
              "       [ 0,  0,  0,  0,  0,  0,  0,  0,  0,  0,  0,  0,  0,  0, 31,  0,\n",
              "         0,  0,  0,  0,  0,  0,  0,  0,  0,  0],\n",
              "       [ 0,  0,  0,  0,  0,  0,  0,  0,  0,  0,  0,  0,  0,  0,  0,  8,\n",
              "         0,  0,  0,  0,  0,  0,  0,  0,  0,  0],\n",
              "       [ 0,  0,  0,  0,  0,  0,  0,  0,  0,  0,  0,  0,  0,  0,  0,  0,\n",
              "        28,  0,  0,  0,  0,  0,  0,  0,  0,  0],\n",
              "       [ 0,  0,  0,  0,  0,  0,  0,  0,  0,  0,  0,  0,  0,  0,  0,  0,\n",
              "         0,  3,  1,  0,  0,  0,  0,  0,  0,  0],\n",
              "       [ 0,  0,  0,  0,  0,  0,  0,  1,  0,  0,  0,  0,  0,  0,  0,  0,\n",
              "         0,  0,  4,  0,  0,  0,  0,  0,  0,  0],\n",
              "       [ 0,  0,  0,  0,  0,  0,  0,  0,  0,  0,  0,  0,  0,  0,  0,  0,\n",
              "         0,  0,  0,  3,  0,  0,  0,  0,  0,  0],\n",
              "       [ 0,  0,  0,  0,  0,  0,  0,  0,  0,  0,  0,  0,  0,  0,  0,  0,\n",
              "         0,  0,  0,  0, 14,  0,  0,  0,  0,  0],\n",
              "       [ 0,  0,  0,  0,  0,  0,  0,  0,  0,  0,  0,  0,  0,  0,  0,  0,\n",
              "         0,  0,  0,  0,  0, 21,  0,  0,  0,  0],\n",
              "       [ 0,  0,  0,  0,  0,  0,  0,  0,  0,  0,  0,  0,  0,  0,  0,  0,\n",
              "         0,  0,  0,  0,  0,  0, 40,  0,  0,  0],\n",
              "       [ 0,  0,  0,  0,  0,  0,  0,  0,  0,  0,  0,  0,  0,  0,  0,  0,\n",
              "         0,  0,  0,  0,  0,  0,  0,  5,  0,  0],\n",
              "       [ 0,  0,  0,  0,  0,  0,  0,  0,  0,  0,  0,  0,  0,  0,  0,  0,\n",
              "         0,  0,  0,  0,  0,  0,  0,  0, 26,  0],\n",
              "       [ 0,  0,  0,  0,  0,  0,  0,  0,  0,  0,  0,  0,  0,  0,  0,  0,\n",
              "         7,  0,  0,  0,  0,  0,  0,  0,  0, 12]])"
            ]
          },
          "metadata": {},
          "execution_count": 37
        }
      ],
      "source": [
        "from sklearn.metrics import confusion_matrix\n",
        "cm= confusion_matrix(y_test,y_pred)\n",
        "cm"
      ]
    },
    {
      "cell_type": "code",
      "execution_count": null,
      "metadata": {
        "id": "zp47wKfphUn-",
        "colab": {
          "base_uri": "https://localhost:8080/"
        },
        "outputId": "0d5c89e6-ffac-40ea-e712-e0ba35b2b29a"
      },
      "outputs": [
        {
          "output_type": "stream",
          "name": "stdout",
          "text": [
            "Correct Predictions: 46\n",
            "Incorrect Predictions: 24\n"
          ]
        }
      ],
      "source": [
        "import numpy as np\n",
        "\n",
        "confusion_matrix = np.array([\n",
        "    [25,  0,  0,  0,  0,  0,  0,  0,  0,  0,  0,  0,  0,  0,  0,  0,  0,  0,  0,  0,  0,  0,  0,  0,  0,  0],\n",
        "    [ 0, 21,  0,  0,  0,  0,  0,  0,  0,  0,  4,  0,  0,  0,  0,  0,  0,  0,  0,  0,  0,  0,  0,  0,  0,  0],\n",
        "    # ... (other rows)\n",
        "    [ 0,  0,  0,  0,  0,  0,  0,  0,  0,  0,  0,  0,  0,  0,  0,  0,  7,  0,  0,  0,  0,  0,  0,  0,  0, 13]\n",
        "])\n",
        "\n",
        "correct_predictions = np.trace(confusion_matrix)\n",
        "incorrect_predictions = np.sum(confusion_matrix) - correct_predictions\n",
        "\n",
        "print(\"Correct Predictions:\", correct_predictions)\n",
        "print(\"Incorrect Predictions:\", incorrect_predictions)\n"
      ]
    },
    {
      "cell_type": "code",
      "execution_count": null,
      "metadata": {
        "id": "n7FQtTlYN0I1",
        "colab": {
          "base_uri": "https://localhost:8080/"
        },
        "outputId": "ea4a77e4-73af-4fa2-89bd-89d65c8656a2"
      },
      "outputs": [
        {
          "output_type": "stream",
          "name": "stdout",
          "text": [
            "['Condemnation_of_livers' 'abdominal_pain' 'abortions' 'acetone'\n",
            " 'aggression' 'anaemia' 'ankylosis' 'anorexia' 'anxiety' 'arthrogyposis'\n",
            " 'bellowing' 'blisters' 'blood_loss' 'blood_poisoning' 'colic'\n",
            " 'conjunctivae' 'coughing' 'decreased_fertility' 'dehydration'\n",
            " 'depression' 'diarrhoea' 'diffculty_breath' 'discomfort' 'drooling'\n",
            " 'dull' 'dysentery' 'dyspnea' 'emaciation' 'encephalitis'\n",
            " 'facial_paralysis' 'fever' 'frothing' 'frothing_of_mouth'\n",
            " 'gaseous_stomach' 'high_proportion' 'high_pulse_rate' 'high_temp'\n",
            " 'highly_diarrhoea' 'hydrocephalus' 'hyperaemia' 'infertility'\n",
            " 'intermittent_fever' 'isolation_from_herd' 'jaundice' 'ketosis'\n",
            " 'lack_of-coordination' 'lacrimation' 'lameness' 'lethargy'\n",
            " 'loss_of_appetite' 'mild_diarrhoea' 'milk_clots' 'milk_fever'\n",
            " 'milk_flakes' 'milk_watery' 'moaning' 'mucosal_lesions'\n",
            " 'nasel_discharges' 'nausea' 'oedema' 'pain' 'painful_tongue'\n",
            " 'photo_sensitization' 'pneumonia' 'prognosis' 'quivering_lips'\n",
            " 'raised_breathing' 'rapid_breathing' 'reduced_fat' 'reduced_fertility'\n",
            " 'reduced_rumination' 'reduces_feed_intake' 'reduction_milk_vields'\n",
            " 'rumenstasis' 'saliva' 'salivation' 'shallow_breathing' 'stillbirths'\n",
            " 'stomach_pain' 'swelling' 'swollen_pharyngeal' 'swollen_tongue'\n",
            " 'tachycardia' 'torticollis' 'udder_hardeness' 'udder_heat' 'udder_pain'\n",
            " 'udder_redness' 'udder_swelling' 'ulcers' 'unwillingness_to_move'\n",
            " 'vomiting' 'weakness' 'weight_loss']\n",
            "\n",
            "[]\n",
            "\n",
            "['prognosis']\n"
          ]
        }
      ],
      "source": [
        "cat_cols, ordinal_cols = [], [\"prognosis\"]\n",
        "\n",
        "for col in df.columns:\n",
        "    if (df[col].dtype == \"object\"):\n",
        "        cat_cols.append(col)\n",
        "        if (len(df[col].value_counts()) <= 2):\n",
        "            ordinal_cols.append(col)\n",
        "\n",
        "num_cols = np.setdiff1d(df.columns, cat_cols)\n",
        "nominal_cols = np.setdiff1d(cat_cols, ordinal_cols)\n",
        "\n",
        "print(num_cols, cat_cols, ordinal_cols, sep = \"\\n\\n\")"
      ]
    },
    {
      "cell_type": "markdown",
      "source": [
        "#Correlation Matrix : A correlation matrix is a statistical tool that shows how strong and in what direction two or more variables are related"
      ],
      "metadata": {
        "id": "FGHruRaSjphe"
      }
    },
    {
      "cell_type": "code",
      "execution_count": null,
      "metadata": {
        "id": "xT11sYw4Ng03",
        "colab": {
          "base_uri": "https://localhost:8080/",
          "height": 443
        },
        "outputId": "4c905ed1-776e-40b4-965b-cb380ab67dcf"
      },
      "outputs": [
        {
          "output_type": "execute_result",
          "data": {
            "text/plain": [
              "                        Condemnation_of_livers  abdominal_pain  abortions  \\\n",
              "Condemnation_of_livers                1.000000       -0.030992  -0.052968   \n",
              "abdominal_pain                       -0.030992        1.000000  -0.106597   \n",
              "abortions                            -0.052968       -0.106597   1.000000   \n",
              "acetone                              -0.025849       -0.052021  -0.088910   \n",
              "aggression                           -0.025208       -0.050731  -0.086704   \n",
              "...                                        ...             ...        ...   \n",
              "ulcers                               -0.036287       -0.073026  -0.124809   \n",
              "unwillingness_to_move                -0.023541       -0.047375  -0.080970   \n",
              "vomiting                             -0.024387       -0.049077   0.259877   \n",
              "weakness                             -0.025849       -0.052021   0.311545   \n",
              "weight_loss                           0.144091        0.124744  -0.105944   \n",
              "\n",
              "                         acetone  aggression   anaemia  ankylosis  anorexia  \\\n",
              "Condemnation_of_livers -0.025849   -0.025208  0.443828  -0.029596 -0.057860   \n",
              "abdominal_pain         -0.052021   -0.050731 -0.062646  -0.059560 -0.116442   \n",
              "abortions              -0.088910   -0.086704  0.283372  -0.101795  0.069875   \n",
              "acetone                 1.000000    0.849574 -0.052251  -0.049678 -0.097121   \n",
              "aggression              0.849574    1.000000 -0.050955  -0.048445 -0.094712   \n",
              "...                          ...         ...       ...        ...       ...   \n",
              "ulcers                 -0.060909   -0.059398 -0.073348  -0.069736 -0.136335   \n",
              "unwillingness_to_move  -0.039515   -0.038534 -0.047585  -0.045241  0.323146   \n",
              "vomiting               -0.040934   -0.039919 -0.049294  -0.046866  0.313455   \n",
              "weakness               -0.043389   -0.042313 -0.052251  -0.049678  0.369974   \n",
              "weight_loss             0.228003    0.178410  0.201171  -0.149930 -0.293117   \n",
              "\n",
              "                         anxiety  arthrogyposis  ...  udder_hardeness  \\\n",
              "Condemnation_of_livers -0.017974      -0.032208  ...        -0.019851   \n",
              "abdominal_pain         -0.036173      -0.064818  ...        -0.039950   \n",
              "abortions              -0.061823      -0.110782  ...        -0.068279   \n",
              "acetone                -0.030171      -0.054063  ...        -0.033321   \n",
              "aggression             -0.029422      -0.052722  ...        -0.032495   \n",
              "...                          ...            ...  ...              ...   \n",
              "ulcers                 -0.042353      -0.075892  ...        -0.046776   \n",
              "unwillingness_to_move  -0.027476      -0.049235  ...        -0.030346   \n",
              "vomiting               -0.028463      -0.051004  ...        -0.031436   \n",
              "weakness               -0.030171      -0.054063  ...        -0.033321   \n",
              "weight_loss            -0.091057      -0.163166  ...        -0.100566   \n",
              "\n",
              "                        udder_heat  udder_pain  udder_redness  udder_swelling  \\\n",
              "Condemnation_of_livers   -0.019244   -0.019448      -0.021018       -0.017755   \n",
              "abdominal_pain           -0.038728   -0.039139      -0.042299       -0.035731   \n",
              "abortions                -0.066191   -0.066894      -0.072293       -0.061067   \n",
              "acetone                  -0.032302   -0.032645      -0.035280       -0.029802   \n",
              "aggression               -0.031501   -0.031835      -0.034405       -0.029063   \n",
              "...                            ...         ...            ...             ...   \n",
              "ulcers                   -0.045345   -0.045826      -0.049525       -0.041835   \n",
              "unwillingness_to_move    -0.029418   -0.029730      -0.032130       -0.027140   \n",
              "vomiting                 -0.030474   -0.030798      -0.033284       -0.028115   \n",
              "weakness                 -0.032302   -0.032645      -0.035280       -0.029802   \n",
              "weight_loss              -0.097490   -0.098525      -0.106478       -0.089944   \n",
              "\n",
              "                          ulcers  unwillingness_to_move  vomiting  weakness  \\\n",
              "Condemnation_of_livers -0.036287              -0.023541 -0.024387 -0.025849   \n",
              "abdominal_pain         -0.073026              -0.047375 -0.049077 -0.052021   \n",
              "abortions              -0.124809              -0.080970  0.259877  0.311545   \n",
              "acetone                -0.060909              -0.039515 -0.040934 -0.043389   \n",
              "aggression             -0.059398              -0.038534 -0.039919 -0.042313   \n",
              "...                          ...                    ...       ...       ...   \n",
              "ulcers                  1.000000              -0.055469 -0.057462 -0.060909   \n",
              "unwillingness_to_move  -0.055469               1.000000 -0.037279 -0.039515   \n",
              "vomiting               -0.057462              -0.037279  1.000000  0.813894   \n",
              "weakness               -0.060909              -0.039515  0.813894  1.000000   \n",
              "weight_loss             0.033833              -0.119258 -0.123542 -0.130952   \n",
              "\n",
              "                        weight_loss  \n",
              "Condemnation_of_livers     0.144091  \n",
              "abdominal_pain             0.124744  \n",
              "abortions                 -0.105944  \n",
              "acetone                    0.228003  \n",
              "aggression                 0.178410  \n",
              "...                             ...  \n",
              "ulcers                     0.033833  \n",
              "unwillingness_to_move     -0.119258  \n",
              "vomiting                  -0.123542  \n",
              "weakness                  -0.130952  \n",
              "weight_loss                1.000000  \n",
              "\n",
              "[94 rows x 94 columns]"
            ],
            "text/html": [
              "\n",
              "  <div id=\"df-648007a8-601a-45c6-9536-049a5f9db41d\" class=\"colab-df-container\">\n",
              "    <div>\n",
              "<style scoped>\n",
              "    .dataframe tbody tr th:only-of-type {\n",
              "        vertical-align: middle;\n",
              "    }\n",
              "\n",
              "    .dataframe tbody tr th {\n",
              "        vertical-align: top;\n",
              "    }\n",
              "\n",
              "    .dataframe thead th {\n",
              "        text-align: right;\n",
              "    }\n",
              "</style>\n",
              "<table border=\"1\" class=\"dataframe\">\n",
              "  <thead>\n",
              "    <tr style=\"text-align: right;\">\n",
              "      <th></th>\n",
              "      <th>Condemnation_of_livers</th>\n",
              "      <th>abdominal_pain</th>\n",
              "      <th>abortions</th>\n",
              "      <th>acetone</th>\n",
              "      <th>aggression</th>\n",
              "      <th>anaemia</th>\n",
              "      <th>ankylosis</th>\n",
              "      <th>anorexia</th>\n",
              "      <th>anxiety</th>\n",
              "      <th>arthrogyposis</th>\n",
              "      <th>...</th>\n",
              "      <th>udder_hardeness</th>\n",
              "      <th>udder_heat</th>\n",
              "      <th>udder_pain</th>\n",
              "      <th>udder_redness</th>\n",
              "      <th>udder_swelling</th>\n",
              "      <th>ulcers</th>\n",
              "      <th>unwillingness_to_move</th>\n",
              "      <th>vomiting</th>\n",
              "      <th>weakness</th>\n",
              "      <th>weight_loss</th>\n",
              "    </tr>\n",
              "  </thead>\n",
              "  <tbody>\n",
              "    <tr>\n",
              "      <th>Condemnation_of_livers</th>\n",
              "      <td>1.000000</td>\n",
              "      <td>-0.030992</td>\n",
              "      <td>-0.052968</td>\n",
              "      <td>-0.025849</td>\n",
              "      <td>-0.025208</td>\n",
              "      <td>0.443828</td>\n",
              "      <td>-0.029596</td>\n",
              "      <td>-0.057860</td>\n",
              "      <td>-0.017974</td>\n",
              "      <td>-0.032208</td>\n",
              "      <td>...</td>\n",
              "      <td>-0.019851</td>\n",
              "      <td>-0.019244</td>\n",
              "      <td>-0.019448</td>\n",
              "      <td>-0.021018</td>\n",
              "      <td>-0.017755</td>\n",
              "      <td>-0.036287</td>\n",
              "      <td>-0.023541</td>\n",
              "      <td>-0.024387</td>\n",
              "      <td>-0.025849</td>\n",
              "      <td>0.144091</td>\n",
              "    </tr>\n",
              "    <tr>\n",
              "      <th>abdominal_pain</th>\n",
              "      <td>-0.030992</td>\n",
              "      <td>1.000000</td>\n",
              "      <td>-0.106597</td>\n",
              "      <td>-0.052021</td>\n",
              "      <td>-0.050731</td>\n",
              "      <td>-0.062646</td>\n",
              "      <td>-0.059560</td>\n",
              "      <td>-0.116442</td>\n",
              "      <td>-0.036173</td>\n",
              "      <td>-0.064818</td>\n",
              "      <td>...</td>\n",
              "      <td>-0.039950</td>\n",
              "      <td>-0.038728</td>\n",
              "      <td>-0.039139</td>\n",
              "      <td>-0.042299</td>\n",
              "      <td>-0.035731</td>\n",
              "      <td>-0.073026</td>\n",
              "      <td>-0.047375</td>\n",
              "      <td>-0.049077</td>\n",
              "      <td>-0.052021</td>\n",
              "      <td>0.124744</td>\n",
              "    </tr>\n",
              "    <tr>\n",
              "      <th>abortions</th>\n",
              "      <td>-0.052968</td>\n",
              "      <td>-0.106597</td>\n",
              "      <td>1.000000</td>\n",
              "      <td>-0.088910</td>\n",
              "      <td>-0.086704</td>\n",
              "      <td>0.283372</td>\n",
              "      <td>-0.101795</td>\n",
              "      <td>0.069875</td>\n",
              "      <td>-0.061823</td>\n",
              "      <td>-0.110782</td>\n",
              "      <td>...</td>\n",
              "      <td>-0.068279</td>\n",
              "      <td>-0.066191</td>\n",
              "      <td>-0.066894</td>\n",
              "      <td>-0.072293</td>\n",
              "      <td>-0.061067</td>\n",
              "      <td>-0.124809</td>\n",
              "      <td>-0.080970</td>\n",
              "      <td>0.259877</td>\n",
              "      <td>0.311545</td>\n",
              "      <td>-0.105944</td>\n",
              "    </tr>\n",
              "    <tr>\n",
              "      <th>acetone</th>\n",
              "      <td>-0.025849</td>\n",
              "      <td>-0.052021</td>\n",
              "      <td>-0.088910</td>\n",
              "      <td>1.000000</td>\n",
              "      <td>0.849574</td>\n",
              "      <td>-0.052251</td>\n",
              "      <td>-0.049678</td>\n",
              "      <td>-0.097121</td>\n",
              "      <td>-0.030171</td>\n",
              "      <td>-0.054063</td>\n",
              "      <td>...</td>\n",
              "      <td>-0.033321</td>\n",
              "      <td>-0.032302</td>\n",
              "      <td>-0.032645</td>\n",
              "      <td>-0.035280</td>\n",
              "      <td>-0.029802</td>\n",
              "      <td>-0.060909</td>\n",
              "      <td>-0.039515</td>\n",
              "      <td>-0.040934</td>\n",
              "      <td>-0.043389</td>\n",
              "      <td>0.228003</td>\n",
              "    </tr>\n",
              "    <tr>\n",
              "      <th>aggression</th>\n",
              "      <td>-0.025208</td>\n",
              "      <td>-0.050731</td>\n",
              "      <td>-0.086704</td>\n",
              "      <td>0.849574</td>\n",
              "      <td>1.000000</td>\n",
              "      <td>-0.050955</td>\n",
              "      <td>-0.048445</td>\n",
              "      <td>-0.094712</td>\n",
              "      <td>-0.029422</td>\n",
              "      <td>-0.052722</td>\n",
              "      <td>...</td>\n",
              "      <td>-0.032495</td>\n",
              "      <td>-0.031501</td>\n",
              "      <td>-0.031835</td>\n",
              "      <td>-0.034405</td>\n",
              "      <td>-0.029063</td>\n",
              "      <td>-0.059398</td>\n",
              "      <td>-0.038534</td>\n",
              "      <td>-0.039919</td>\n",
              "      <td>-0.042313</td>\n",
              "      <td>0.178410</td>\n",
              "    </tr>\n",
              "    <tr>\n",
              "      <th>...</th>\n",
              "      <td>...</td>\n",
              "      <td>...</td>\n",
              "      <td>...</td>\n",
              "      <td>...</td>\n",
              "      <td>...</td>\n",
              "      <td>...</td>\n",
              "      <td>...</td>\n",
              "      <td>...</td>\n",
              "      <td>...</td>\n",
              "      <td>...</td>\n",
              "      <td>...</td>\n",
              "      <td>...</td>\n",
              "      <td>...</td>\n",
              "      <td>...</td>\n",
              "      <td>...</td>\n",
              "      <td>...</td>\n",
              "      <td>...</td>\n",
              "      <td>...</td>\n",
              "      <td>...</td>\n",
              "      <td>...</td>\n",
              "      <td>...</td>\n",
              "    </tr>\n",
              "    <tr>\n",
              "      <th>ulcers</th>\n",
              "      <td>-0.036287</td>\n",
              "      <td>-0.073026</td>\n",
              "      <td>-0.124809</td>\n",
              "      <td>-0.060909</td>\n",
              "      <td>-0.059398</td>\n",
              "      <td>-0.073348</td>\n",
              "      <td>-0.069736</td>\n",
              "      <td>-0.136335</td>\n",
              "      <td>-0.042353</td>\n",
              "      <td>-0.075892</td>\n",
              "      <td>...</td>\n",
              "      <td>-0.046776</td>\n",
              "      <td>-0.045345</td>\n",
              "      <td>-0.045826</td>\n",
              "      <td>-0.049525</td>\n",
              "      <td>-0.041835</td>\n",
              "      <td>1.000000</td>\n",
              "      <td>-0.055469</td>\n",
              "      <td>-0.057462</td>\n",
              "      <td>-0.060909</td>\n",
              "      <td>0.033833</td>\n",
              "    </tr>\n",
              "    <tr>\n",
              "      <th>unwillingness_to_move</th>\n",
              "      <td>-0.023541</td>\n",
              "      <td>-0.047375</td>\n",
              "      <td>-0.080970</td>\n",
              "      <td>-0.039515</td>\n",
              "      <td>-0.038534</td>\n",
              "      <td>-0.047585</td>\n",
              "      <td>-0.045241</td>\n",
              "      <td>0.323146</td>\n",
              "      <td>-0.027476</td>\n",
              "      <td>-0.049235</td>\n",
              "      <td>...</td>\n",
              "      <td>-0.030346</td>\n",
              "      <td>-0.029418</td>\n",
              "      <td>-0.029730</td>\n",
              "      <td>-0.032130</td>\n",
              "      <td>-0.027140</td>\n",
              "      <td>-0.055469</td>\n",
              "      <td>1.000000</td>\n",
              "      <td>-0.037279</td>\n",
              "      <td>-0.039515</td>\n",
              "      <td>-0.119258</td>\n",
              "    </tr>\n",
              "    <tr>\n",
              "      <th>vomiting</th>\n",
              "      <td>-0.024387</td>\n",
              "      <td>-0.049077</td>\n",
              "      <td>0.259877</td>\n",
              "      <td>-0.040934</td>\n",
              "      <td>-0.039919</td>\n",
              "      <td>-0.049294</td>\n",
              "      <td>-0.046866</td>\n",
              "      <td>0.313455</td>\n",
              "      <td>-0.028463</td>\n",
              "      <td>-0.051004</td>\n",
              "      <td>...</td>\n",
              "      <td>-0.031436</td>\n",
              "      <td>-0.030474</td>\n",
              "      <td>-0.030798</td>\n",
              "      <td>-0.033284</td>\n",
              "      <td>-0.028115</td>\n",
              "      <td>-0.057462</td>\n",
              "      <td>-0.037279</td>\n",
              "      <td>1.000000</td>\n",
              "      <td>0.813894</td>\n",
              "      <td>-0.123542</td>\n",
              "    </tr>\n",
              "    <tr>\n",
              "      <th>weakness</th>\n",
              "      <td>-0.025849</td>\n",
              "      <td>-0.052021</td>\n",
              "      <td>0.311545</td>\n",
              "      <td>-0.043389</td>\n",
              "      <td>-0.042313</td>\n",
              "      <td>-0.052251</td>\n",
              "      <td>-0.049678</td>\n",
              "      <td>0.369974</td>\n",
              "      <td>-0.030171</td>\n",
              "      <td>-0.054063</td>\n",
              "      <td>...</td>\n",
              "      <td>-0.033321</td>\n",
              "      <td>-0.032302</td>\n",
              "      <td>-0.032645</td>\n",
              "      <td>-0.035280</td>\n",
              "      <td>-0.029802</td>\n",
              "      <td>-0.060909</td>\n",
              "      <td>-0.039515</td>\n",
              "      <td>0.813894</td>\n",
              "      <td>1.000000</td>\n",
              "      <td>-0.130952</td>\n",
              "    </tr>\n",
              "    <tr>\n",
              "      <th>weight_loss</th>\n",
              "      <td>0.144091</td>\n",
              "      <td>0.124744</td>\n",
              "      <td>-0.105944</td>\n",
              "      <td>0.228003</td>\n",
              "      <td>0.178410</td>\n",
              "      <td>0.201171</td>\n",
              "      <td>-0.149930</td>\n",
              "      <td>-0.293117</td>\n",
              "      <td>-0.091057</td>\n",
              "      <td>-0.163166</td>\n",
              "      <td>...</td>\n",
              "      <td>-0.100566</td>\n",
              "      <td>-0.097490</td>\n",
              "      <td>-0.098525</td>\n",
              "      <td>-0.106478</td>\n",
              "      <td>-0.089944</td>\n",
              "      <td>0.033833</td>\n",
              "      <td>-0.119258</td>\n",
              "      <td>-0.123542</td>\n",
              "      <td>-0.130952</td>\n",
              "      <td>1.000000</td>\n",
              "    </tr>\n",
              "  </tbody>\n",
              "</table>\n",
              "<p>94 rows × 94 columns</p>\n",
              "</div>\n",
              "    <div class=\"colab-df-buttons\">\n",
              "\n",
              "  <div class=\"colab-df-container\">\n",
              "    <button class=\"colab-df-convert\" onclick=\"convertToInteractive('df-648007a8-601a-45c6-9536-049a5f9db41d')\"\n",
              "            title=\"Convert this dataframe to an interactive table.\"\n",
              "            style=\"display:none;\">\n",
              "\n",
              "  <svg xmlns=\"http://www.w3.org/2000/svg\" height=\"24px\" viewBox=\"0 -960 960 960\">\n",
              "    <path d=\"M120-120v-720h720v720H120Zm60-500h600v-160H180v160Zm220 220h160v-160H400v160Zm0 220h160v-160H400v160ZM180-400h160v-160H180v160Zm440 0h160v-160H620v160ZM180-180h160v-160H180v160Zm440 0h160v-160H620v160Z\"/>\n",
              "  </svg>\n",
              "    </button>\n",
              "\n",
              "  <style>\n",
              "    .colab-df-container {\n",
              "      display:flex;\n",
              "      gap: 12px;\n",
              "    }\n",
              "\n",
              "    .colab-df-convert {\n",
              "      background-color: #E8F0FE;\n",
              "      border: none;\n",
              "      border-radius: 50%;\n",
              "      cursor: pointer;\n",
              "      display: none;\n",
              "      fill: #1967D2;\n",
              "      height: 32px;\n",
              "      padding: 0 0 0 0;\n",
              "      width: 32px;\n",
              "    }\n",
              "\n",
              "    .colab-df-convert:hover {\n",
              "      background-color: #E2EBFA;\n",
              "      box-shadow: 0px 1px 2px rgba(60, 64, 67, 0.3), 0px 1px 3px 1px rgba(60, 64, 67, 0.15);\n",
              "      fill: #174EA6;\n",
              "    }\n",
              "\n",
              "    .colab-df-buttons div {\n",
              "      margin-bottom: 4px;\n",
              "    }\n",
              "\n",
              "    [theme=dark] .colab-df-convert {\n",
              "      background-color: #3B4455;\n",
              "      fill: #D2E3FC;\n",
              "    }\n",
              "\n",
              "    [theme=dark] .colab-df-convert:hover {\n",
              "      background-color: #434B5C;\n",
              "      box-shadow: 0px 1px 3px 1px rgba(0, 0, 0, 0.15);\n",
              "      filter: drop-shadow(0px 1px 2px rgba(0, 0, 0, 0.3));\n",
              "      fill: #FFFFFF;\n",
              "    }\n",
              "  </style>\n",
              "\n",
              "    <script>\n",
              "      const buttonEl =\n",
              "        document.querySelector('#df-648007a8-601a-45c6-9536-049a5f9db41d button.colab-df-convert');\n",
              "      buttonEl.style.display =\n",
              "        google.colab.kernel.accessAllowed ? 'block' : 'none';\n",
              "\n",
              "      async function convertToInteractive(key) {\n",
              "        const element = document.querySelector('#df-648007a8-601a-45c6-9536-049a5f9db41d');\n",
              "        const dataTable =\n",
              "          await google.colab.kernel.invokeFunction('convertToInteractive',\n",
              "                                                    [key], {});\n",
              "        if (!dataTable) return;\n",
              "\n",
              "        const docLinkHtml = 'Like what you see? Visit the ' +\n",
              "          '<a target=\"_blank\" href=https://colab.research.google.com/notebooks/data_table.ipynb>data table notebook</a>'\n",
              "          + ' to learn more about interactive tables.';\n",
              "        element.innerHTML = '';\n",
              "        dataTable['output_type'] = 'display_data';\n",
              "        await google.colab.output.renderOutput(dataTable, element);\n",
              "        const docLink = document.createElement('div');\n",
              "        docLink.innerHTML = docLinkHtml;\n",
              "        element.appendChild(docLink);\n",
              "      }\n",
              "    </script>\n",
              "  </div>\n",
              "\n",
              "\n",
              "<div id=\"df-4a42eb17-871e-4a97-9f16-c92db92fc9b2\">\n",
              "  <button class=\"colab-df-quickchart\" onclick=\"quickchart('df-4a42eb17-871e-4a97-9f16-c92db92fc9b2')\"\n",
              "            title=\"Suggest charts\"\n",
              "            style=\"display:none;\">\n",
              "\n",
              "<svg xmlns=\"http://www.w3.org/2000/svg\" height=\"24px\"viewBox=\"0 0 24 24\"\n",
              "     width=\"24px\">\n",
              "    <g>\n",
              "        <path d=\"M19 3H5c-1.1 0-2 .9-2 2v14c0 1.1.9 2 2 2h14c1.1 0 2-.9 2-2V5c0-1.1-.9-2-2-2zM9 17H7v-7h2v7zm4 0h-2V7h2v10zm4 0h-2v-4h2v4z\"/>\n",
              "    </g>\n",
              "</svg>\n",
              "  </button>\n",
              "\n",
              "<style>\n",
              "  .colab-df-quickchart {\n",
              "      --bg-color: #E8F0FE;\n",
              "      --fill-color: #1967D2;\n",
              "      --hover-bg-color: #E2EBFA;\n",
              "      --hover-fill-color: #174EA6;\n",
              "      --disabled-fill-color: #AAA;\n",
              "      --disabled-bg-color: #DDD;\n",
              "  }\n",
              "\n",
              "  [theme=dark] .colab-df-quickchart {\n",
              "      --bg-color: #3B4455;\n",
              "      --fill-color: #D2E3FC;\n",
              "      --hover-bg-color: #434B5C;\n",
              "      --hover-fill-color: #FFFFFF;\n",
              "      --disabled-bg-color: #3B4455;\n",
              "      --disabled-fill-color: #666;\n",
              "  }\n",
              "\n",
              "  .colab-df-quickchart {\n",
              "    background-color: var(--bg-color);\n",
              "    border: none;\n",
              "    border-radius: 50%;\n",
              "    cursor: pointer;\n",
              "    display: none;\n",
              "    fill: var(--fill-color);\n",
              "    height: 32px;\n",
              "    padding: 0;\n",
              "    width: 32px;\n",
              "  }\n",
              "\n",
              "  .colab-df-quickchart:hover {\n",
              "    background-color: var(--hover-bg-color);\n",
              "    box-shadow: 0 1px 2px rgba(60, 64, 67, 0.3), 0 1px 3px 1px rgba(60, 64, 67, 0.15);\n",
              "    fill: var(--button-hover-fill-color);\n",
              "  }\n",
              "\n",
              "  .colab-df-quickchart-complete:disabled,\n",
              "  .colab-df-quickchart-complete:disabled:hover {\n",
              "    background-color: var(--disabled-bg-color);\n",
              "    fill: var(--disabled-fill-color);\n",
              "    box-shadow: none;\n",
              "  }\n",
              "\n",
              "  .colab-df-spinner {\n",
              "    border: 2px solid var(--fill-color);\n",
              "    border-color: transparent;\n",
              "    border-bottom-color: var(--fill-color);\n",
              "    animation:\n",
              "      spin 1s steps(1) infinite;\n",
              "  }\n",
              "\n",
              "  @keyframes spin {\n",
              "    0% {\n",
              "      border-color: transparent;\n",
              "      border-bottom-color: var(--fill-color);\n",
              "      border-left-color: var(--fill-color);\n",
              "    }\n",
              "    20% {\n",
              "      border-color: transparent;\n",
              "      border-left-color: var(--fill-color);\n",
              "      border-top-color: var(--fill-color);\n",
              "    }\n",
              "    30% {\n",
              "      border-color: transparent;\n",
              "      border-left-color: var(--fill-color);\n",
              "      border-top-color: var(--fill-color);\n",
              "      border-right-color: var(--fill-color);\n",
              "    }\n",
              "    40% {\n",
              "      border-color: transparent;\n",
              "      border-right-color: var(--fill-color);\n",
              "      border-top-color: var(--fill-color);\n",
              "    }\n",
              "    60% {\n",
              "      border-color: transparent;\n",
              "      border-right-color: var(--fill-color);\n",
              "    }\n",
              "    80% {\n",
              "      border-color: transparent;\n",
              "      border-right-color: var(--fill-color);\n",
              "      border-bottom-color: var(--fill-color);\n",
              "    }\n",
              "    90% {\n",
              "      border-color: transparent;\n",
              "      border-bottom-color: var(--fill-color);\n",
              "    }\n",
              "  }\n",
              "</style>\n",
              "\n",
              "  <script>\n",
              "    async function quickchart(key) {\n",
              "      const quickchartButtonEl =\n",
              "        document.querySelector('#' + key + ' button');\n",
              "      quickchartButtonEl.disabled = true;  // To prevent multiple clicks.\n",
              "      quickchartButtonEl.classList.add('colab-df-spinner');\n",
              "      try {\n",
              "        const charts = await google.colab.kernel.invokeFunction(\n",
              "            'suggestCharts', [key], {});\n",
              "      } catch (error) {\n",
              "        console.error('Error during call to suggestCharts:', error);\n",
              "      }\n",
              "      quickchartButtonEl.classList.remove('colab-df-spinner');\n",
              "      quickchartButtonEl.classList.add('colab-df-quickchart-complete');\n",
              "    }\n",
              "    (() => {\n",
              "      let quickchartButtonEl =\n",
              "        document.querySelector('#df-4a42eb17-871e-4a97-9f16-c92db92fc9b2 button');\n",
              "      quickchartButtonEl.style.display =\n",
              "        google.colab.kernel.accessAllowed ? 'block' : 'none';\n",
              "    })();\n",
              "  </script>\n",
              "</div>\n",
              "\n",
              "  <div id=\"id_0fc85a8c-f5a6-41ba-bff4-acf1a92edba8\">\n",
              "    <style>\n",
              "      .colab-df-generate {\n",
              "        background-color: #E8F0FE;\n",
              "        border: none;\n",
              "        border-radius: 50%;\n",
              "        cursor: pointer;\n",
              "        display: none;\n",
              "        fill: #1967D2;\n",
              "        height: 32px;\n",
              "        padding: 0 0 0 0;\n",
              "        width: 32px;\n",
              "      }\n",
              "\n",
              "      .colab-df-generate:hover {\n",
              "        background-color: #E2EBFA;\n",
              "        box-shadow: 0px 1px 2px rgba(60, 64, 67, 0.3), 0px 1px 3px 1px rgba(60, 64, 67, 0.15);\n",
              "        fill: #174EA6;\n",
              "      }\n",
              "\n",
              "      [theme=dark] .colab-df-generate {\n",
              "        background-color: #3B4455;\n",
              "        fill: #D2E3FC;\n",
              "      }\n",
              "\n",
              "      [theme=dark] .colab-df-generate:hover {\n",
              "        background-color: #434B5C;\n",
              "        box-shadow: 0px 1px 3px 1px rgba(0, 0, 0, 0.15);\n",
              "        filter: drop-shadow(0px 1px 2px rgba(0, 0, 0, 0.3));\n",
              "        fill: #FFFFFF;\n",
              "      }\n",
              "    </style>\n",
              "    <button class=\"colab-df-generate\" onclick=\"generateWithVariable('corr_matrix')\"\n",
              "            title=\"Generate code using this dataframe.\"\n",
              "            style=\"display:none;\">\n",
              "\n",
              "  <svg xmlns=\"http://www.w3.org/2000/svg\" height=\"24px\"viewBox=\"0 0 24 24\"\n",
              "       width=\"24px\">\n",
              "    <path d=\"M7,19H8.4L18.45,9,17,7.55,7,17.6ZM5,21V16.75L18.45,3.32a2,2,0,0,1,2.83,0l1.4,1.43a1.91,1.91,0,0,1,.58,1.4,1.91,1.91,0,0,1-.58,1.4L9.25,21ZM18.45,9,17,7.55Zm-12,3A5.31,5.31,0,0,0,4.9,8.1,5.31,5.31,0,0,0,1,6.5,5.31,5.31,0,0,0,4.9,4.9,5.31,5.31,0,0,0,6.5,1,5.31,5.31,0,0,0,8.1,4.9,5.31,5.31,0,0,0,12,6.5,5.46,5.46,0,0,0,6.5,12Z\"/>\n",
              "  </svg>\n",
              "    </button>\n",
              "    <script>\n",
              "      (() => {\n",
              "      const buttonEl =\n",
              "        document.querySelector('#id_0fc85a8c-f5a6-41ba-bff4-acf1a92edba8 button.colab-df-generate');\n",
              "      buttonEl.style.display =\n",
              "        google.colab.kernel.accessAllowed ? 'block' : 'none';\n",
              "\n",
              "      buttonEl.onclick = () => {\n",
              "        google.colab.notebook.generateWithVariable('corr_matrix');\n",
              "      }\n",
              "      })();\n",
              "    </script>\n",
              "  </div>\n",
              "\n",
              "    </div>\n",
              "  </div>\n"
            ],
            "application/vnd.google.colaboratory.intrinsic+json": {
              "type": "dataframe",
              "variable_name": "corr_matrix"
            }
          },
          "metadata": {},
          "execution_count": 40
        }
      ],
      "source": [
        "corr_matrix = df.loc[:,num_cols].corr()\n",
        "corr_matrix"
      ]
    },
    {
      "cell_type": "markdown",
      "source": [
        "#Confusion Matrix"
      ],
      "metadata": {
        "id": "y4K4dSw_jkP-"
      }
    },
    {
      "cell_type": "code",
      "source": [
        "import seaborn as sns\n",
        "import matplotlib.pyplot as plt\n",
        "from sklearn.metrics import accuracy_score, classification_report, confusion_matrix\n",
        "conf_matrix = confusion_matrix(y_test, y_pred)\n",
        "print(\"Confusion Matrix\\n:\",conf_matrix)\n",
        "sns.heatmap(conf_matrix, annot=True, fmt='d', cmap='Blues')\n",
        "plt.xlabel('Predicted Labels')\n",
        "plt.ylabel('True Labels')\n",
        "plt.title('Confusion Matrix')\n",
        "plt.show()"
      ],
      "metadata": {
        "colab": {
          "base_uri": "https://localhost:8080/",
          "height": 1000
        },
        "id": "cmdLJpwcvWsi",
        "outputId": "4126e09b-1ab5-4cda-e7f5-7c2f697d02c1"
      },
      "execution_count": null,
      "outputs": [
        {
          "output_type": "stream",
          "name": "stdout",
          "text": [
            "Confusion Matrix\n",
            ": [[16  0  0  0  0  0  0  0  0  0  0  0  0  0  0  0  3  0  0  0  0  0  0  0\n",
            "   0  0]\n",
            " [ 0 16  0  0  0  0  0  0  0  0  5  0  0  0  0  0  0  0  0  0  0  0  0  0\n",
            "   0  0]\n",
            " [ 0  0  6  0  0  0  0  0  0  0  0  0  0  0  0  0  0  0  0  0  0  0  0  0\n",
            "   0  0]\n",
            " [ 0  0  0 13  0  0  0  0  0  0  0  0  0  0  0  0  1  0  0  0  0  0  0  0\n",
            "   0  0]\n",
            " [ 0  0  0  0 21  0  0  0  0  0  0  0  0  0  0  0  0  0  0  0  0  0  0  0\n",
            "   0  0]\n",
            " [ 0  0  0  0  0  6  2  0  0  0  0  0  0  0  0  0  0  0  0  0  0  0  0  0\n",
            "   0  0]\n",
            " [ 0  0  0  0  0  0 19  0  0  0  0  0  0  0  0  0  0  0  0  0  0  0  0  0\n",
            "   0  0]\n",
            " [ 0  0  0  0  0  0  0  4  0  0  0  0  0  0  0  0  0  0  0  0  0  0  0  0\n",
            "   0  0]\n",
            " [ 0  0  0  0  0  0  0  0 15  0  0  0  0  0  0  0  0  0  0  0  0  0  0  0\n",
            "   0  0]\n",
            " [ 0  0  0  0  0  0  0  0  0 12  0  0  0  0  0  0  0  0  0  0  0  0  0  0\n",
            "   0  0]\n",
            " [ 0  0  0  0  0  0  0  0  0  0 17  0  0  0  0  0  1  0  0  0  0  0  0  0\n",
            "   0  0]\n",
            " [ 0  2  0  0  0  0  0  0  0  0  0 12  0  0  0  0  0  0  0  0  0  0  0  0\n",
            "   0  0]\n",
            " [ 0  0  0  0  0  0  0  0  0  0  0  0 15  0  0  0  0  0  0  0  0  0  0  0\n",
            "   0  0]\n",
            " [ 0  0  0  0  0  0  0  0  0  0  0  0  0 19  0  0  0  0  0  0  0  0  0  0\n",
            "   0  0]\n",
            " [ 0  0  0  0  0  0  0  0  0  0  0  0  0  0 31  0  0  0  0  0  0  0  0  0\n",
            "   0  0]\n",
            " [ 0  0  0  0  0  0  0  0  0  0  0  0  0  0  0  8  0  0  0  0  0  0  0  0\n",
            "   0  0]\n",
            " [ 0  0  0  0  0  0  0  0  0  0  0  0  0  0  0  0 28  0  0  0  0  0  0  0\n",
            "   0  0]\n",
            " [ 0  0  0  0  0  0  0  0  0  0  0  0  0  0  0  0  0  3  1  0  0  0  0  0\n",
            "   0  0]\n",
            " [ 0  0  0  0  0  0  0  1  0  0  0  0  0  0  0  0  0  0  4  0  0  0  0  0\n",
            "   0  0]\n",
            " [ 0  0  0  0  0  0  0  0  0  0  0  0  0  0  0  0  0  0  0  3  0  0  0  0\n",
            "   0  0]\n",
            " [ 0  0  0  0  0  0  0  0  0  0  0  0  0  0  0  0  0  0  0  0 14  0  0  0\n",
            "   0  0]\n",
            " [ 0  0  0  0  0  0  0  0  0  0  0  0  0  0  0  0  0  0  0  0  0 21  0  0\n",
            "   0  0]\n",
            " [ 0  0  0  0  0  0  0  0  0  0  0  0  0  0  0  0  0  0  0  0  0  0 40  0\n",
            "   0  0]\n",
            " [ 0  0  0  0  0  0  0  0  0  0  0  0  0  0  0  0  0  0  0  0  0  0  0  5\n",
            "   0  0]\n",
            " [ 0  0  0  0  0  0  0  0  0  0  0  0  0  0  0  0  0  0  0  0  0  0  0  0\n",
            "  26  0]\n",
            " [ 0  0  0  0  0  0  0  0  0  0  0  0  0  0  0  0  7  0  0  0  0  0  0  0\n",
            "   0 12]]\n"
          ]
        },
        {
          "output_type": "display_data",
          "data": {
            "text/plain": [
              "<Figure size 640x480 with 2 Axes>"
            ],
            "image/png": "[encoded data removed]"
          },
          "metadata": {}
        }
      ]
    },
    {
      "cell_type": "code",
      "source": [
        "import pandas as pd\n",
        "from sklearn.model_selection import train_test_split\n",
        "from sklearn.preprocessing import LabelEncoder\n",
        "from sklearn.feature_selection import SelectKBest, chi2\n",
        "from sklearn.neighbors import KNeighborsClassifier\n",
        "from sklearn.metrics import accuracy_score, classification_report, confusion_matrix, roc_curve, auc\n",
        "import seaborn as sns\n",
        "import matplotlib.pyplot as plt\n",
        "from sklearn.preprocessing import label_binarize\n",
        "from sklearn.multiclass import OneVsRestClassifier\n",
        "\n",
        "# Load data from CSV file\n",
        "df = pd.read_csv('Training.csv')  # Replace with your CSV file\n",
        "\n",
        "# Assuming 'symptom' is a categorical column\n",
        "symptom_encoder = LabelEncoder()\n",
        "df['prognosis'] = symptom_encoder.fit_transform(df['prognosis'])\n",
        "\n",
        "# Separate features (X) and target variable (y)\n",
        "X = df.drop('prognosis', axis=1)\n",
        "y = df['prognosis']\n",
        "\n",
        "# Feature selection using SelectKBest with chi-squared test\n",
        "# k_best = 90  # Adjust as needed\n",
        "# selector = SelectKBest(chi2, k=k_best)\n",
        "# X_selected = selector.fit_transform(X, y)\n",
        "\n",
        "# Split the data into training and testing sets\n",
        "X_train, X_test, y_train, y_test = train_test_split(X, y, test_size=0.2, random_state=42)\n",
        "\n",
        "# Convert multiclass labels to binary labels\n",
        "y_train_bin = label_binarize(y_train, classes=list(set(y_train)))\n",
        "y_test_bin = label_binarize(y_test, classes=list(set(y_train)))\n",
        "\n",
        "# Create k-NN model with OneVsRestClassifier\n",
        "k_neighbors = 10  # Adjust as needed\n",
        "knn_model = OneVsRestClassifier(KNeighborsClassifier(n_neighbors=k_neighbors))\n",
        "\n",
        "# Train the k-NN model\n",
        "knn_model.fit(X_train, y_train_bin)\n",
        "\n",
        "# Get predicted probabilities for positive class\n",
        "y_prob = knn_model.predict_proba(X_test)\n",
        "\n",
        "# Compute ROC curve and AUC for each class\n",
        "fpr = dict()\n",
        "tpr = dict()\n",
        "roc_auc = dict()\n",
        "for i in range(len(set(y_train))):\n",
        "    fpr[i], tpr[i], _ = roc_curve(y_test_bin[:, i], y_prob[:, i])\n",
        "    roc_auc[i] = auc(fpr[i], tpr[i])\n",
        "\n",
        "# Plot ROC curves for each class\n",
        "plt.figure(figsize=(8, 8))\n",
        "for i in range(len(set(y_train))):\n",
        "    plt.plot(fpr[i], tpr[i], label=f'Class {i} (AUC = {roc_auc[i]:.2f}')\n",
        "\n",
        "plt.plot([0, 1], [0, 1], color='navy', lw=2, linestyle='--')\n",
        "plt.xlabel('False Positive Rate')\n",
        "plt.ylabel('True Positive Rate')\n",
        "plt.title('Receiver Operating Characteristic (ROC) Curve - Multiclass (One-vs-Rest)')\n",
        "plt.legend(loc='lower right')\n",
        "plt.show()\n"
      ],
      "metadata": {
        "id": "4YuThhM10zGT",
        "colab": {
          "base_uri": "https://localhost:8080/",
          "height": 718
        },
        "outputId": "5cf762ea-d06c-4c8f-bff3-ab3b9e2c8f02"
      },
      "execution_count": null,
      "outputs": [
        {
          "output_type": "display_data",
          "data": {
            "text/plain": [
              "<Figure size 800x800 with 1 Axes>"
            ],
            "image/png": "[encoded data removed]"
          },
          "metadata": {}
        }
      ]
    },
    {
      "cell_type": "code",
      "source": [
        "import seaborn as sns\n",
        "sns.axes_style()"
      ],
      "metadata": {
        "colab": {
          "base_uri": "https://localhost:8080/"
        },
        "id": "FSauhc_LPSGh",
        "outputId": "f77832bd-871d-4a20-8c6c-00c79e00769b"
      },
      "execution_count": null,
      "outputs": [
        {
          "output_type": "execute_result",
          "data": {
            "text/plain": [
              "{'axes.facecolor': '#EAEAF2',\n",
              " 'axes.edgecolor': 'white',\n",
              " 'axes.grid': True,\n",
              " 'axes.axisbelow': True,\n",
              " 'axes.labelcolor': '.15',\n",
              " 'figure.facecolor': 'white',\n",
              " 'grid.color': 'white',\n",
              " 'grid.linestyle': '-',\n",
              " 'text.color': '.15',\n",
              " 'xtick.color': '.15',\n",
              " 'ytick.color': '.15',\n",
              " 'xtick.direction': 'out',\n",
              " 'ytick.direction': 'out',\n",
              " 'lines.solid_capstyle': <CapStyle.round: 'round'>,\n",
              " 'patch.edgecolor': 'w',\n",
              " 'patch.force_edgecolor': True,\n",
              " 'image.cmap': 'rocket',\n",
              " 'font.family': ['sans-serif'],\n",
              " 'font.sans-serif': ['Arial',\n",
              "  'DejaVu Sans',\n",
              "  'Liberation Sans',\n",
              "  'Bitstream Vera Sans',\n",
              "  'sans-serif'],\n",
              " 'xtick.bottom': False,\n",
              " 'xtick.top': False,\n",
              " 'ytick.left': False,\n",
              " 'ytick.right': False,\n",
              " 'axes.spines.left': True,\n",
              " 'axes.spines.bottom': True,\n",
              " 'axes.spines.right': True,\n",
              " 'axes.spines.top': True}"
            ]
          },
          "metadata": {},
          "execution_count": 53
        }
      ]
    },
    {
      "cell_type": "markdown",
      "source": [
        "# Comparision Of Accuracy of Different Algorithms"
      ],
      "metadata": {
        "id": "3anbN_3IjVmR"
      }
    },
    {
      "cell_type": "code",
      "source": [
        "import matplotlib.pyplot as plt\n",
        "import seaborn as sns\n",
        "\n",
        "# Sample data (replace with your actual performance metrics)\n",
        "metrics = ['Accuracy', 'Precision', 'Recall', 'F1-Score']\n",
        "DNN =[0.96, 0.97, 0.96, 0.96]\n",
        "CNN =[0.92, 0.94, 0.92, 0.91]\n",
        "Naive_Bayes_Classifier =[0.93, 0.92, 0.94, 0.92]\n",
        "XGBoost_Classifier =[0.95, 0.96, 0.95, 0.95]\n",
        "\n",
        "# Combine the data for plotting\n",
        "data = {'Metrics': metrics * 4,\n",
        "        'Scores': CNN + DNN + Naive_Bayes_Classifier + XGBoost_Classifier,\n",
        "        'Model': ['CNN'] * len(metrics) + ['DNN'] * len(metrics) + ['Naive Bayes Classifier'] * len(metrics) + ['XGBoost Classifier'] * len(metrics)}\n",
        "\n",
        "# Create a DataFrame for Seaborn\n",
        "import pandas as pd\n",
        "df = pd.DataFrame(data)\n",
        "\n",
        "# Set the style\n",
        "sns.set(style=\"white\")\n",
        "\n",
        "# Create a grouped bar chart\n",
        "plt.figure(figsize=(8, 4))\n",
        "sns.barplot(x='Metrics', y='Scores', hue='Model', data=df, palette='bright')\n",
        "sns.color_palette(\"Paired\")\n",
        "# Customize chart\n",
        "fontdict={'fontsize': 16, 'fontweight': 'bold', 'color': 'black'}\n",
        "plt.title('Comparison of Different Models',fontdict)\n",
        "plt.ylabel('Scores')\n",
        "plt.legend(bbox_to_anchor=(0.5, 1.25),ncol=4, loc=\"upper center\")\n",
        "plt.show()\n"
      ],
      "metadata": {
        "colab": {
          "base_uri": "https://localhost:8080/",
          "height": 466
        },
        "id": "jP_DrG2UJ5Ly",
        "outputId": "40c1bbeb-1652-470b-f146-529b14d1fc0c"
      },
      "execution_count": null,
      "outputs": [
        {
          "output_type": "display_data",
          "data": {
            "text/plain": [
              "<Figure size 800x400 with 1 Axes>"
            ],
            "image/png": "[encoded data removed]"
          },
          "metadata": {}
        }
      ]
    },
    {
      "cell_type": "markdown",
      "source": [
        "#Implementing XGBoost Gradient and Naive Bayes Classifier"
      ],
      "metadata": {
        "id": "yc8PUmrGJDzX"
      }
    },
    {
      "cell_type": "code",
      "source": [
        "import pandas as pd\n",
        "import numpy as np\n",
        "from sklearn.tree import DecisionTreeClassifier\n",
        "from sklearn.metrics import classification_report,accuracy_score\n",
        "from sklearn.metrics import mean_absolute_error\n",
        "from sklearn.model_selection import train_test_split\n",
        "from sklearn.preprocessing import LabelEncoder\n",
        "from sklearn.preprocessing import StandardScaler\n",
        "\n",
        "\n",
        "df = pd.read_csv('Training.csv')\n",
        "\n",
        "symptom_encoder = LabelEncoder()\n",
        "df['prognosis'] = symptom_encoder.fit_transform(df['prognosis'])\n",
        "\n",
        "X = df.drop('prognosis', axis=1)\n",
        "y = df['prognosis']\n",
        "\n",
        "X_train, X_test, y_train, y_test = train_test_split(X, y, test_size=0.2, random_state=0)\n",
        "\n",
        "desired_order=['anorexia', 'abdominal_pain', 'anaemia', 'abortions', 'acetone', 'aggression', 'arthrogyposis', 'ankylosis', 'anxiety', 'bellowing', 'blood_loss',  'colic', 'Condemnation_of_livers','coughing',  'discomfort', 'dysentery',  'dehydration', 'drooling', 'dull',  'emaciation', 'fever', 'facial_paralysis', 'frothing_of_mouth', 'frothing', 'gaseous_stomach', 'highly_diarrhoea', 'high_pulse_rate', 'high_temp', 'high_proportion', 'hyperaemia', 'hydrocephalus', 'isolation_from_herd',\n",
        "               'intermittent_fever',  'ketosis', 'loss_of_appetite', 'lameness', 'lack_of-coordination',\n",
        "               'lethargy', 'lacrimation', 'mild_diarrhoea', 'moaning', 'mucosal_lesions', 'milk_fever', 'nausea', 'nasel_discharges', 'oedema', 'pain']\n",
        "X_train = X_train[desired_order]\n",
        "X_test = X_test[desired_order]\n",
        "\n",
        "st_x= StandardScaler()\n",
        "X_train= st_x.fit_transform(X_train)\n",
        "X_test= st_x.transform(X_test)"
      ],
      "metadata": {
        "id": "4YEVOI-yJiwl"
      },
      "execution_count": null,
      "outputs": []
    },
    {
      "cell_type": "code",
      "source": [
        "import numpy as np\n",
        "import pandas as pd\n",
        "from sklearn.model_selection import train_test_split\n",
        "from sklearn.naive_bayes import GaussianNB\n",
        "from xgboost import XGBClassifier\n",
        "from sklearn.metrics import precision_score, recall_score, accuracy_score, f1_score\n",
        "\n",
        "# Assuming you have your data in a pandas DataFrame\n",
        "# Replace 'your_dataframe' with your actual DataFrame variable\n",
        "# Replace 'feature_columns' with your actual feature columns\n",
        "# Replace 'target_column' with your actual target column\n",
        "\n",
        "# Example DataFrame creation (replace this with your actual data loading code)\n",
        "# df = pd.read_csv('your_data.csv')\n",
        "\n",
        "# Example feature columns and target column\n",
        "# feature_columns = ['feature1', 'feature2', ...]\n",
        "# target_column = 'target'\n",
        "\n",
        "# For demonstration purposes, creating a sample dataset\n",
        "from sklearn.datasets import load_iris\n",
        "# data = load_iris()\n",
        "# X = data.data\n",
        "# y = data.target\n",
        "\n",
        "# # Split the data into training and testing sets\n",
        "# X_train, X_test, y_train, y_test = train_test_split(X, y, test_size=0.2, random_state=42)\n",
        "\n",
        "# Naive Bayes Classifier\n",
        "nb_model = GaussianNB()\n",
        "nb_model.fit(X_train, y_train)\n",
        "nb_predictions = nb_model.predict(X_test)\n",
        "\n",
        "# XGBoost Classifier\n",
        "xgb_model = XGBClassifier(use_label_encoder=False, eval_metric='mlogloss')\n",
        "xgb_model.fit(X_train, y_train)\n",
        "xgb_predictions = xgb_model.predict(X_test)\n",
        "\n",
        "# Calculate and print metrics for Naive Bayes\n",
        "print(\"Naive Bayes Classifier Metrics:\")\n",
        "print(\"Precision:\", precision_score(y_test, nb_predictions, average='weighted'))\n",
        "print(\"Recall:\", recall_score(y_test, nb_predictions, average='weighted'))\n",
        "print(\"Accuracy:\", accuracy_score(y_test, nb_predictions))\n",
        "print(\"F1-Score:\", f1_score(y_test, nb_predictions, average='weighted'))\n",
        "\n",
        "# Calculate and print metrics for XGBoost\n",
        "print(\"\\nXGBoost Classifier Metrics:\")\n",
        "print(\"Precision:\", precision_score(y_test, xgb_predictions, average='weighted'))\n",
        "print(\"Recall:\", recall_score(y_test, xgb_predictions, average='weighted'))\n",
        "print(\"Accuracy:\", accuracy_score(y_test, xgb_predictions))\n",
        "print(\"F1-Score:\", f1_score(y_test, xgb_predictions, average='weighted'))\n"
      ],
      "metadata": {
        "colab": {
          "base_uri": "https://localhost:8080/"
        },
        "id": "TCbmVNxvJLfi",
        "outputId": "0929e0c8-391e-4421-e5b4-5ea704aa1d92"
      },
      "execution_count": null,
      "outputs": [
        {
          "output_type": "stream",
          "name": "stderr",
          "text": [
            "/usr/local/lib/python3.10/dist-packages/xgboost/core.py:158: UserWarning: [19:46:59] WARNING: /workspace/src/learner.cc:740: \n",
            "Parameters: { \"use_label_encoder\" } are not used.\n",
            "\n",
            "  warnings.warn(smsg, UserWarning)\n"
          ]
        },
        {
          "output_type": "stream",
          "name": "stdout",
          "text": [
            "Naive Bayes Classifier Metrics:\n",
            "Precision: 0.941302126306706\n",
            "Recall: 0.9290953545232273\n",
            "Accuracy: 0.9290953545232273\n",
            "F1-Score: 0.9297669491196567\n",
            "\n",
            "XGBoost Classifier Metrics:\n",
            "Precision: 0.96352416939214\n",
            "Recall: 0.9535452322738386\n",
            "Accuracy: 0.9535452322738386\n",
            "F1-Score: 0.9534734510683464\n"
          ]
        }
      ]
    },
    {
      "cell_type": "code",
      "source": [
        "pip install xgboost graphviz\n"
      ],
      "metadata": {
        "colab": {
          "base_uri": "https://localhost:8080/"
        },
        "id": "OSsgAKSi656w",
        "outputId": "6d29eca0-6f86-4246-e8cf-f22af831db87"
      },
      "execution_count": null,
      "outputs": [
        {
          "output_type": "stream",
          "name": "stdout",
          "text": [
            "Requirement already satisfied: xgboost in /usr/local/lib/python3.10/dist-packages (2.1.0)\n",
            "Requirement already satisfied: graphviz in /usr/local/lib/python3.10/dist-packages (0.20.3)\n",
            "Requirement already satisfied: numpy in /usr/local/lib/python3.10/dist-packages (from xgboost) (1.26.4)\n",
            "Collecting nvidia-nccl-cu12 (from xgboost)\n",
            "  Downloading nvidia_nccl_cu12-2.22.3-py3-none-manylinux2014_x86_64.whl.metadata (1.8 kB)\n",
            "Requirement already satisfied: scipy in /usr/local/lib/python3.10/dist-packages (from xgboost) (1.13.1)\n",
            "Downloading nvidia_nccl_cu12-2.22.3-py3-none-manylinux2014_x86_64.whl (190.9 MB)\n",
            "\u001b[2K   \u001b[90m━━━━━━━━━━━━━━━━━━━━━━━━━━━━━━━━━━━━━━━━\u001b[0m \u001b[32m190.9/190.9 MB\u001b[0m \u001b[31m3.9 MB/s\u001b[0m eta \u001b[36m0:00:00\u001b[0m\n",
            "\u001b[?25hInstalling collected packages: nvidia-nccl-cu12\n",
            "\u001b[31mERROR: pip's dependency resolver does not currently take into account all the packages that are installed. This behaviour is the source of the following dependency conflicts.\n",
            "torch 2.3.1+cu121 requires nvidia-cublas-cu12==12.1.3.1; platform_system == \"Linux\" and platform_machine == \"x86_64\", which is not installed.\n",
            "torch 2.3.1+cu121 requires nvidia-cuda-cupti-cu12==12.1.105; platform_system == \"Linux\" and platform_machine == \"x86_64\", which is not installed.\n",
            "torch 2.3.1+cu121 requires nvidia-cuda-nvrtc-cu12==12.1.105; platform_system == \"Linux\" and platform_machine == \"x86_64\", which is not installed.\n",
            "torch 2.3.1+cu121 requires nvidia-cuda-runtime-cu12==12.1.105; platform_system == \"Linux\" and platform_machine == \"x86_64\", which is not installed.\n",
            "torch 2.3.1+cu121 requires nvidia-cudnn-cu12==8.9.2.26; platform_system == \"Linux\" and platform_machine == \"x86_64\", which is not installed.\n",
            "torch 2.3.1+cu121 requires nvidia-cufft-cu12==11.0.2.54; platform_system == \"Linux\" and platform_machine == \"x86_64\", which is not installed.\n",
            "torch 2.3.1+cu121 requires nvidia-curand-cu12==10.3.2.106; platform_system == \"Linux\" and platform_machine == \"x86_64\", which is not installed.\n",
            "torch 2.3.1+cu121 requires nvidia-cusolver-cu12==11.4.5.107; platform_system == \"Linux\" and platform_machine == \"x86_64\", which is not installed.\n",
            "torch 2.3.1+cu121 requires nvidia-cusparse-cu12==12.1.0.106; platform_system == \"Linux\" and platform_machine == \"x86_64\", which is not installed.\n",
            "torch 2.3.1+cu121 requires nvidia-nvtx-cu12==12.1.105; platform_system == \"Linux\" and platform_machine == \"x86_64\", which is not installed.\n",
            "torch 2.3.1+cu121 requires nvidia-nccl-cu12==2.20.5; platform_system == \"Linux\" and platform_machine == \"x86_64\", but you have nvidia-nccl-cu12 2.22.3 which is incompatible.\u001b[0m\u001b[31m\n",
            "\u001b[0mSuccessfully installed nvidia-nccl-cu12-2.22.3\n"
          ]
        }
      ]
    },
    {
      "cell_type": "code",
      "source": [
        "import xgboost as xgb\n",
        "import matplotlib.pyplot as plt\n",
        "from xgboost import plot_tree\n",
        "\n",
        "# Assuming 'xgb_model' is your trained XGBoost model\n",
        "# Plot the tree\n",
        "plt.figure(figsize=(10, 7),dpi=500)\n",
        "plot_tree(xgb_model, num_trees=0)\n",
        "plt.show()\n"
      ],
      "metadata": {
        "colab": {
          "base_uri": "https://localhost:8080/",
          "height": 424
        },
        "id": "QfI-Y2FL7X9w",
        "outputId": "06519f95-cfd5-4e9c-a088-2d1196bf10df"
      },
      "execution_count": null,
      "outputs": [
        {
          "output_type": "display_data",
          "data": {
            "text/plain": [
              "<Figure size 5000x3500 with 0 Axes>"
            ]
          },
          "metadata": {}
        },
        {
          "output_type": "display_data",
          "data": {
            "text/plain": [
              "<Figure size 640x480 with 1 Axes>"
            ],
            "image/png": "[encoded data removed]"
          },
          "metadata": {}
        }
      ]
    },
    {
      "cell_type": "markdown",
      "source": [
        "#DNN"
      ],
      "metadata": {
        "id": "UrdedUSMA1RL"
      }
    },
    {
      "cell_type": "code",
      "source": [
        "import numpy as np\n",
        "import pandas as pd\n",
        "from sklearn.model_selection import train_test_split\n",
        "from sklearn.preprocessing import LabelEncoder, StandardScaler\n",
        "from keras.models import Sequential\n",
        "from keras.layers import Dense\n",
        "from keras.utils import to_categorical\n",
        "\n",
        "# Load the dataset\n",
        "df = pd.read_csv('Training.csv')\n",
        "\n",
        "# Encode the target variable\n",
        "label_encoder = LabelEncoder()\n",
        "df['prognosis'] = label_encoder.fit_transform(df['prognosis'])\n",
        "\n",
        "# Split the data into features and target\n",
        "X = df.drop(columns=['prognosis'])\n",
        "y = df['prognosis']\n",
        "\n",
        "# Desired order of features\n",
        "desired_order = ['anorexia', 'abdominal_pain', 'anaemia', 'abortions', 'acetone', 'aggression', 'arthrogyposis', 'ankylosis', 'anxiety', 'bellowing', 'blood_loss',  'colic', 'Condemnation_of_livers','coughing',  'discomfort', 'dysentery',  'dehydration', 'drooling', 'dull',  'emaciation', 'fever', 'facial_paralysis', 'frothing_of_mouth', 'frothing', 'gaseous_stomach', 'highly_diarrhoea', 'high_pulse_rate', 'high_temp', 'high_proportion', 'hyperaemia', 'hydrocephalus', 'isolation_from_herd', 'intermittent_fever',  'ketosis', 'loss_of_appetite', 'lameness', 'lack_of-coordination', 'lethargy', 'lacrimation', 'mild_diarrhoea', 'moaning', 'mucosal_lesions', 'milk_fever', 'nausea', 'nasel_discharges', 'oedema', 'pain']\n",
        "\n",
        "# Ensure the feature order\n",
        "X = X[desired_order]\n",
        "\n",
        "# Standardize the features\n",
        "scaler = StandardScaler()\n",
        "X = scaler.fit_transform(X)\n",
        "\n",
        "# Convert target to categorical\n",
        "y = to_categorical(y)\n",
        "\n",
        "# Split data into training and testing sets\n",
        "X_train, X_test, y_train, y_test = train_test_split(X, y, test_size=0.2, random_state=42)\n",
        "\n",
        "# Build the Dense Neural Network model\n",
        "model = Sequential()\n",
        "model.add(Dense(128, input_dim=X.shape[1], activation='relu'))\n",
        "model.add(Dense(64, activation='relu'))\n",
        "model.add(Dense(32, activation='relu'))\n",
        "model.add(Dense(y.shape[1], activation='softmax'))\n",
        "\n",
        "# Compile the model\n",
        "model.compile(optimizer='adam', loss='categorical_crossentropy', metrics=['accuracy'])\n",
        "\n",
        "# Train the model\n",
        "model.fit(X_train, y_train, epochs=50, batch_size=32, validation_data=(X_test, y_test))\n",
        "\n",
        "# Evaluate the model\n",
        "loss, accuracy = model.evaluate(X_test, y_test)\n",
        "print(f'Test Accuracy: {accuracy:.2f}')\n",
        "\n",
        "y_pred = model.predict(X_test)\n",
        "y_pred_classes = np.argmax(y_pred, axis=1)\n",
        "y_true = np.argmax(y_test, axis=1)\n",
        "\n",
        "precision, recall, f1_score, _ = precision_recall_fscore_support(y_true, y_pred_classes, average='weighted')\n",
        "\n",
        "print(f'Precision: {precision:.2f}')\n",
        "print(f'Recall: {recall:.2f}')\n",
        "print(f'F1-score: {f1_score:.2f}')\n"
      ],
      "metadata": {
        "colab": {
          "base_uri": "https://localhost:8080/"
        },
        "id": "ciEgesbUUkU8",
        "outputId": "b3daaaaa-a44f-4485-a710-0985791d04ea"
      },
      "execution_count": null,
      "outputs": [
        {
          "output_type": "stream",
          "name": "stdout",
          "text": [
            "Epoch 1/50\n"
          ]
        },
        {
          "output_type": "stream",
          "name": "stderr",
          "text": [
            "/usr/local/lib/python3.10/dist-packages/keras/src/layers/core/dense.py:87: UserWarning: Do not pass an `input_shape`/`input_dim` argument to a layer. When using Sequential models, prefer using an `Input(shape)` object as the first layer in the model instead.\n",
            "  super().__init__(activity_regularizer=activity_regularizer, **kwargs)\n"
          ]
        },
        {
          "output_type": "stream",
          "name": "stdout",
          "text": [
            "\u001b[1m52/52\u001b[0m \u001b[32m━━━━━━━━━━━━━━━━━━━━\u001b[0m\u001b[37m\u001b[0m \u001b[1m2s\u001b[0m 7ms/step - accuracy: 0.2618 - loss: 2.8993 - val_accuracy: 0.7311 - val_loss: 1.4199\n",
            "Epoch 2/50\n",
            "\u001b[1m52/52\u001b[0m \u001b[32m━━━━━━━━━━━━━━━━━━━━\u001b[0m\u001b[37m\u001b[0m \u001b[1m0s\u001b[0m 3ms/step - accuracy: 0.8090 - loss: 1.0874 - val_accuracy: 0.9144 - val_loss: 0.4631\n",
            "Epoch 3/50\n",
            "\u001b[1m52/52\u001b[0m \u001b[32m━━━━━━━━━━━━━━━━━━━━\u001b[0m\u001b[37m\u001b[0m \u001b[1m0s\u001b[0m 3ms/step - accuracy: 0.9197 - loss: 0.3924 - val_accuracy: 0.9511 - val_loss: 0.2813\n",
            "Epoch 4/50\n",
            "\u001b[1m52/52\u001b[0m \u001b[32m━━━━━━━━━━━━━━━━━━━━\u001b[0m\u001b[37m\u001b[0m \u001b[1m0s\u001b[0m 3ms/step - accuracy: 0.9159 - loss: 0.2634 - val_accuracy: 0.9413 - val_loss: 0.2105\n",
            "Epoch 5/50\n",
            "\u001b[1m52/52\u001b[0m \u001b[32m━━━━━━━━━━━━━━━━━━━━\u001b[0m\u001b[37m\u001b[0m \u001b[1m0s\u001b[0m 3ms/step - accuracy: 0.9367 - loss: 0.1807 - val_accuracy: 0.9389 - val_loss: 0.1899\n",
            "Epoch 6/50\n",
            "\u001b[1m52/52\u001b[0m \u001b[32m━━━━━━━━━━━━━━━━━━━━\u001b[0m\u001b[37m\u001b[0m \u001b[1m0s\u001b[0m 3ms/step - accuracy: 0.9428 - loss: 0.1805 - val_accuracy: 0.9364 - val_loss: 0.1964\n",
            "Epoch 7/50\n",
            "\u001b[1m52/52\u001b[0m \u001b[32m━━━━━━━━━━━━━━━━━━━━\u001b[0m\u001b[37m\u001b[0m \u001b[1m0s\u001b[0m 3ms/step - accuracy: 0.9275 - loss: 0.1918 - val_accuracy: 0.9389 - val_loss: 0.1926\n",
            "Epoch 8/50\n",
            "\u001b[1m52/52\u001b[0m \u001b[32m━━━━━━━━━━━━━━━━━━━━\u001b[0m\u001b[37m\u001b[0m \u001b[1m0s\u001b[0m 4ms/step - accuracy: 0.9370 - loss: 0.1799 - val_accuracy: 0.9511 - val_loss: 0.1656\n",
            "Epoch 9/50\n",
            "\u001b[1m52/52\u001b[0m \u001b[32m━━━━━━━━━━━━━━━━━━━━\u001b[0m\u001b[37m\u001b[0m \u001b[1m0s\u001b[0m 6ms/step - accuracy: 0.9427 - loss: 0.1495 - val_accuracy: 0.9535 - val_loss: 0.1396\n",
            "Epoch 10/50\n",
            "\u001b[1m52/52\u001b[0m \u001b[32m━━━━━━━━━━━━━━━━━━━━\u001b[0m\u001b[37m\u001b[0m \u001b[1m0s\u001b[0m 5ms/step - accuracy: 0.9519 - loss: 0.1302 - val_accuracy: 0.9462 - val_loss: 0.1297\n",
            "Epoch 11/50\n",
            "\u001b[1m52/52\u001b[0m \u001b[32m━━━━━━━━━━━━━━━━━━━━\u001b[0m\u001b[37m\u001b[0m \u001b[1m1s\u001b[0m 6ms/step - accuracy: 0.9428 - loss: 0.1291 - val_accuracy: 0.9438 - val_loss: 0.1540\n",
            "Epoch 12/50\n",
            "\u001b[1m52/52\u001b[0m \u001b[32m━━━━━━━━━━━━━━━━━━━━\u001b[0m\u001b[37m\u001b[0m \u001b[1m1s\u001b[0m 6ms/step - accuracy: 0.9324 - loss: 0.1616 - val_accuracy: 0.9267 - val_loss: 0.1543\n",
            "Epoch 13/50\n",
            "\u001b[1m52/52\u001b[0m \u001b[32m━━━━━━━━━━━━━━━━━━━━\u001b[0m\u001b[37m\u001b[0m \u001b[1m1s\u001b[0m 5ms/step - accuracy: 0.9433 - loss: 0.1274 - val_accuracy: 0.9389 - val_loss: 0.1421\n",
            "Epoch 14/50\n",
            "\u001b[1m52/52\u001b[0m \u001b[32m━━━━━━━━━━━━━━━━━━━━\u001b[0m\u001b[37m\u001b[0m \u001b[1m1s\u001b[0m 3ms/step - accuracy: 0.9405 - loss: 0.1425 - val_accuracy: 0.9438 - val_loss: 0.1340\n",
            "Epoch 15/50\n",
            "\u001b[1m52/52\u001b[0m \u001b[32m━━━━━━━━━━━━━━━━━━━━\u001b[0m\u001b[37m\u001b[0m \u001b[1m0s\u001b[0m 3ms/step - accuracy: 0.9484 - loss: 0.1252 - val_accuracy: 0.9413 - val_loss: 0.1455\n",
            "Epoch 16/50\n",
            "\u001b[1m52/52\u001b[0m \u001b[32m━━━━━━━━━━━━━━━━━━━━\u001b[0m\u001b[37m\u001b[0m \u001b[1m0s\u001b[0m 3ms/step - accuracy: 0.9493 - loss: 0.1317 - val_accuracy: 0.9413 - val_loss: 0.1419\n",
            "Epoch 17/50\n",
            "\u001b[1m52/52\u001b[0m \u001b[32m━━━━━━━━━━━━━━━━━━━━\u001b[0m\u001b[37m\u001b[0m \u001b[1m0s\u001b[0m 4ms/step - accuracy: 0.9521 - loss: 0.1354 - val_accuracy: 0.9462 - val_loss: 0.1229\n",
            "Epoch 18/50\n",
            "\u001b[1m52/52\u001b[0m \u001b[32m━━━━━━━━━━━━━━━━━━━━\u001b[0m\u001b[37m\u001b[0m \u001b[1m0s\u001b[0m 3ms/step - accuracy: 0.9411 - loss: 0.1417 - val_accuracy: 0.9462 - val_loss: 0.1462\n",
            "Epoch 19/50\n",
            "\u001b[1m52/52\u001b[0m \u001b[32m━━━━━━━━━━━━━━━━━━━━\u001b[0m\u001b[37m\u001b[0m \u001b[1m0s\u001b[0m 3ms/step - accuracy: 0.9394 - loss: 0.1289 - val_accuracy: 0.9511 - val_loss: 0.1253\n",
            "Epoch 20/50\n",
            "\u001b[1m52/52\u001b[0m \u001b[32m━━━━━━━━━━━━━━━━━━━━\u001b[0m\u001b[37m\u001b[0m \u001b[1m0s\u001b[0m 3ms/step - accuracy: 0.9448 - loss: 0.1221 - val_accuracy: 0.9413 - val_loss: 0.1443\n",
            "Epoch 21/50\n",
            "\u001b[1m52/52\u001b[0m \u001b[32m━━━━━━━━━━━━━━━━━━━━\u001b[0m\u001b[37m\u001b[0m \u001b[1m0s\u001b[0m 4ms/step - accuracy: 0.9414 - loss: 0.1359 - val_accuracy: 0.9535 - val_loss: 0.1283\n",
            "Epoch 22/50\n",
            "\u001b[1m52/52\u001b[0m \u001b[32m━━━━━━━━━━━━━━━━━━━━\u001b[0m\u001b[37m\u001b[0m \u001b[1m0s\u001b[0m 3ms/step - accuracy: 0.9324 - loss: 0.1482 - val_accuracy: 0.9438 - val_loss: 0.1340\n",
            "Epoch 23/50\n",
            "\u001b[1m52/52\u001b[0m \u001b[32m━━━━━━━━━━━━━━━━━━━━\u001b[0m\u001b[37m\u001b[0m \u001b[1m0s\u001b[0m 4ms/step - accuracy: 0.9410 - loss: 0.1265 - val_accuracy: 0.9487 - val_loss: 0.1311\n",
            "Epoch 24/50\n",
            "\u001b[1m52/52\u001b[0m \u001b[32m━━━━━━━━━━━━━━━━━━━━\u001b[0m\u001b[37m\u001b[0m \u001b[1m0s\u001b[0m 3ms/step - accuracy: 0.9378 - loss: 0.1403 - val_accuracy: 0.9584 - val_loss: 0.1277\n",
            "Epoch 25/50\n",
            "\u001b[1m52/52\u001b[0m \u001b[32m━━━━━━━━━━━━━━━━━━━━\u001b[0m\u001b[37m\u001b[0m \u001b[1m0s\u001b[0m 4ms/step - accuracy: 0.9400 - loss: 0.1240 - val_accuracy: 0.9535 - val_loss: 0.1266\n",
            "Epoch 26/50\n",
            "\u001b[1m52/52\u001b[0m \u001b[32m━━━━━━━━━━━━━━━━━━━━\u001b[0m\u001b[37m\u001b[0m \u001b[1m0s\u001b[0m 3ms/step - accuracy: 0.9463 - loss: 0.1238 - val_accuracy: 0.9535 - val_loss: 0.1254\n",
            "Epoch 27/50\n",
            "\u001b[1m52/52\u001b[0m \u001b[32m━━━━━━━━━━━━━━━━━━━━\u001b[0m\u001b[37m\u001b[0m \u001b[1m0s\u001b[0m 3ms/step - accuracy: 0.9384 - loss: 0.1430 - val_accuracy: 0.9584 - val_loss: 0.1217\n",
            "Epoch 28/50\n",
            "\u001b[1m52/52\u001b[0m \u001b[32m━━━━━━━━━━━━━━━━━━━━\u001b[0m\u001b[37m\u001b[0m \u001b[1m0s\u001b[0m 3ms/step - accuracy: 0.9370 - loss: 0.1251 - val_accuracy: 0.9462 - val_loss: 0.1243\n",
            "Epoch 29/50\n",
            "\u001b[1m52/52\u001b[0m \u001b[32m━━━━━━━━━━━━━━━━━━━━\u001b[0m\u001b[37m\u001b[0m \u001b[1m0s\u001b[0m 4ms/step - accuracy: 0.9439 - loss: 0.1279 - val_accuracy: 0.9560 - val_loss: 0.1254\n",
            "Epoch 30/50\n",
            "\u001b[1m52/52\u001b[0m \u001b[32m━━━━━━━━━━━━━━━━━━━━\u001b[0m\u001b[37m\u001b[0m \u001b[1m0s\u001b[0m 3ms/step - accuracy: 0.9490 - loss: 0.1223 - val_accuracy: 0.9584 - val_loss: 0.1290\n",
            "Epoch 31/50\n",
            "\u001b[1m52/52\u001b[0m \u001b[32m━━━━━━━━━━━━━━━━━━━━\u001b[0m\u001b[37m\u001b[0m \u001b[1m0s\u001b[0m 3ms/step - accuracy: 0.9466 - loss: 0.1279 - val_accuracy: 0.9413 - val_loss: 0.1261\n",
            "Epoch 32/50\n",
            "\u001b[1m52/52\u001b[0m \u001b[32m━━━━━━━━━━━━━━━━━━━━\u001b[0m\u001b[37m\u001b[0m \u001b[1m0s\u001b[0m 3ms/step - accuracy: 0.9474 - loss: 0.1237 - val_accuracy: 0.9462 - val_loss: 0.1234\n",
            "Epoch 33/50\n",
            "\u001b[1m52/52\u001b[0m \u001b[32m━━━━━━━━━━━━━━━━━━━━\u001b[0m\u001b[37m\u001b[0m \u001b[1m0s\u001b[0m 3ms/step - accuracy: 0.9464 - loss: 0.1305 - val_accuracy: 0.9389 - val_loss: 0.1414\n",
            "Epoch 34/50\n",
            "\u001b[1m52/52\u001b[0m \u001b[32m━━━━━━━━━━━━━━━━━━━━\u001b[0m\u001b[37m\u001b[0m \u001b[1m0s\u001b[0m 3ms/step - accuracy: 0.9450 - loss: 0.1280 - val_accuracy: 0.9584 - val_loss: 0.1295\n",
            "Epoch 35/50\n",
            "\u001b[1m52/52\u001b[0m \u001b[32m━━━━━━━━━━━━━━━━━━━━\u001b[0m\u001b[37m\u001b[0m \u001b[1m0s\u001b[0m 3ms/step - accuracy: 0.9412 - loss: 0.1204 - val_accuracy: 0.9364 - val_loss: 0.1349\n",
            "Epoch 36/50\n",
            "\u001b[1m52/52\u001b[0m \u001b[32m━━━━━━━━━━━━━━━━━━━━\u001b[0m\u001b[37m\u001b[0m \u001b[1m0s\u001b[0m 3ms/step - accuracy: 0.9416 - loss: 0.1209 - val_accuracy: 0.9487 - val_loss: 0.1171\n",
            "Epoch 37/50\n",
            "\u001b[1m52/52\u001b[0m \u001b[32m━━━━━━━━━━━━━━━━━━━━\u001b[0m\u001b[37m\u001b[0m \u001b[1m0s\u001b[0m 3ms/step - accuracy: 0.9453 - loss: 0.1177 - val_accuracy: 0.9487 - val_loss: 0.1251\n",
            "Epoch 38/50\n",
            "\u001b[1m52/52\u001b[0m \u001b[32m━━━━━━━━━━━━━━━━━━━━\u001b[0m\u001b[37m\u001b[0m \u001b[1m0s\u001b[0m 3ms/step - accuracy: 0.9395 - loss: 0.1461 - val_accuracy: 0.9511 - val_loss: 0.1302\n",
            "Epoch 39/50\n",
            "\u001b[1m52/52\u001b[0m \u001b[32m━━━━━━━━━━━━━━━━━━━━\u001b[0m\u001b[37m\u001b[0m \u001b[1m0s\u001b[0m 2ms/step - accuracy: 0.9354 - loss: 0.1326 - val_accuracy: 0.9413 - val_loss: 0.1285\n",
            "Epoch 40/50\n",
            "\u001b[1m52/52\u001b[0m \u001b[32m━━━━━━━━━━━━━━━━━━━━\u001b[0m\u001b[37m\u001b[0m \u001b[1m0s\u001b[0m 3ms/step - accuracy: 0.9384 - loss: 0.1265 - val_accuracy: 0.9535 - val_loss: 0.1113\n",
            "Epoch 41/50\n",
            "\u001b[1m52/52\u001b[0m \u001b[32m━━━━━━━━━━━━━━━━━━━━\u001b[0m\u001b[37m\u001b[0m \u001b[1m0s\u001b[0m 3ms/step - accuracy: 0.9328 - loss: 0.1327 - val_accuracy: 0.9535 - val_loss: 0.1235\n",
            "Epoch 42/50\n",
            "\u001b[1m52/52\u001b[0m \u001b[32m━━━━━━━━━━━━━━━━━━━━\u001b[0m\u001b[37m\u001b[0m \u001b[1m0s\u001b[0m 3ms/step - accuracy: 0.9567 - loss: 0.0985 - val_accuracy: 0.9413 - val_loss: 0.1181\n",
            "Epoch 43/50\n",
            "\u001b[1m52/52\u001b[0m \u001b[32m━━━━━━━━━━━━━━━━━━━━\u001b[0m\u001b[37m\u001b[0m \u001b[1m0s\u001b[0m 3ms/step - accuracy: 0.9326 - loss: 0.1395 - val_accuracy: 0.9584 - val_loss: 0.1251\n",
            "Epoch 44/50\n",
            "\u001b[1m52/52\u001b[0m \u001b[32m━━━━━━━━━━━━━━━━━━━━\u001b[0m\u001b[37m\u001b[0m \u001b[1m0s\u001b[0m 3ms/step - accuracy: 0.9393 - loss: 0.1364 - val_accuracy: 0.9535 - val_loss: 0.1377\n",
            "Epoch 45/50\n",
            "\u001b[1m52/52\u001b[0m \u001b[32m━━━━━━━━━━━━━━━━━━━━\u001b[0m\u001b[37m\u001b[0m \u001b[1m0s\u001b[0m 3ms/step - accuracy: 0.9445 - loss: 0.1247 - val_accuracy: 0.9535 - val_loss: 0.1203\n",
            "Epoch 46/50\n",
            "\u001b[1m52/52\u001b[0m \u001b[32m━━━━━━━━━━━━━━━━━━━━\u001b[0m\u001b[37m\u001b[0m \u001b[1m0s\u001b[0m 4ms/step - accuracy: 0.9466 - loss: 0.1162 - val_accuracy: 0.9389 - val_loss: 0.1183\n",
            "Epoch 47/50\n",
            "\u001b[1m52/52\u001b[0m \u001b[32m━━━━━━━━━━━━━━━━━━━━\u001b[0m\u001b[37m\u001b[0m \u001b[1m0s\u001b[0m 3ms/step - accuracy: 0.9338 - loss: 0.1485 - val_accuracy: 0.9487 - val_loss: 0.1304\n",
            "Epoch 48/50\n",
            "\u001b[1m52/52\u001b[0m \u001b[32m━━━━━━━━━━━━━━━━━━━━\u001b[0m\u001b[37m\u001b[0m \u001b[1m0s\u001b[0m 3ms/step - accuracy: 0.9419 - loss: 0.1313 - val_accuracy: 0.9340 - val_loss: 0.1417\n",
            "Epoch 49/50\n",
            "\u001b[1m52/52\u001b[0m \u001b[32m━━━━━━━━━━━━━━━━━━━━\u001b[0m\u001b[37m\u001b[0m \u001b[1m0s\u001b[0m 3ms/step - accuracy: 0.9369 - loss: 0.1320 - val_accuracy: 0.9584 - val_loss: 0.1288\n",
            "Epoch 50/50\n",
            "\u001b[1m52/52\u001b[0m \u001b[32m━━━━━━━━━━━━━━━━━━━━\u001b[0m\u001b[37m\u001b[0m \u001b[1m0s\u001b[0m 3ms/step - accuracy: 0.9456 - loss: 0.1317 - val_accuracy: 0.9584 - val_loss: 0.1174\n",
            "\u001b[1m13/13\u001b[0m \u001b[32m━━━━━━━━━━━━━━━━━━━━\u001b[0m\u001b[37m\u001b[0m \u001b[1m0s\u001b[0m 2ms/step - accuracy: 0.9602 - loss: 0.1340 \n",
            "Test Accuracy: 0.96\n",
            "\u001b[1m13/13\u001b[0m \u001b[32m━━━━━━━━━━━━━━━━━━━━\u001b[0m\u001b[37m\u001b[0m \u001b[1m0s\u001b[0m 5ms/step\n",
            "Precision: 0.97\n",
            "Recall: 0.96\n",
            "F1-score: 0.96\n"
          ]
        }
      ]
    },
    {
      "cell_type": "code",
      "source": [],
      "metadata": {
        "id": "Lf9z14NvEByD"
      },
      "execution_count": null,
      "outputs": []
    },
    {
      "cell_type": "markdown",
      "source": [
        "#CNN"
      ],
      "metadata": {
        "id": "vybN7BKUA4a8"
      }
    },
    {
      "cell_type": "code",
      "source": [
        "import numpy as np\n",
        "import pandas as pd\n",
        "from sklearn.model_selection import train_test_split\n",
        "from sklearn.preprocessing import LabelEncoder, StandardScaler\n",
        "from keras.models import Sequential\n",
        "from keras.layers import Dense, Conv1D, MaxPooling1D, Flatten\n",
        "from keras.utils import to_categorical\n",
        "from sklearn.metrics import precision_recall_fscore_support\n",
        "\n",
        "# Load the dataset\n",
        "df = pd.read_csv('Training.csv')\n",
        "\n",
        "# Encode the target variable\n",
        "label_encoder = LabelEncoder()\n",
        "df['prognosis'] = label_encoder.fit_transform(df['prognosis'])\n",
        "\n",
        "# Split the data into features and target\n",
        "X = df.drop(columns=['prognosis'])\n",
        "y = df['prognosis']\n",
        "\n",
        "# Desired order of features\n",
        "desired_order = ['anorexia', 'abdominal_pain', 'anaemia', 'abortions', 'acetone', 'aggression', 'arthrogyposis', 'ankylosis', 'anxiety', 'bellowing', 'blood_loss', 'colic', 'Condemnation_of_livers','coughing', 'discomfort', 'dysentery', 'dehydration', 'drooling', 'dull', 'emaciation', 'fever', 'facial_paralysis', 'frothing_of_mouth', 'frothing', 'gaseous_stomach', 'highly_diarrhoea', 'high_pulse_rate', 'high_temp', 'high_proportion', 'hyperaemia', 'hydrocephalus', 'isolation_from_herd', 'intermittent_fever', 'ketosis', 'loss_of_appetite', 'lameness', 'lack_of-coordination', 'lethargy', 'lacrimation', 'mild_diarrhoea', 'moaning', 'mucosal_lesions', 'milk_fever', 'nausea', 'nasel_discharges', 'oedema', 'pain']\n",
        "\n",
        "# Ensure the feature order\n",
        "X = X[desired_order]\n",
        "\n",
        "# Standardize the features\n",
        "scaler = StandardScaler()\n",
        "X = scaler.fit_transform(X)\n",
        "\n",
        "# Convert target to categorical\n",
        "y = to_categorical(y)\n",
        "\n",
        "# Reshape the input data for CNN (add a channel dimension)\n",
        "X = X.reshape(X.shape[0], X.shape[1], 1)\n",
        "\n",
        "# Split data into training and testing sets\n",
        "X_train, X_test, y_train, y_test = train_test_split(X, y, test_size=0.2, random_state=42)\n",
        "\n",
        "# Build the CNN model\n",
        "model = Sequential()\n",
        "model.add(Conv1D(filters=64, kernel_size=3, activation='relu', input_shape=(X.shape[1], 1)))\n",
        "model.add(MaxPooling1D(pool_size=2))\n",
        "model.add(Conv1D(filters=32, kernel_size=3, activation='relu'))\n",
        "model.add(MaxPooling1D(pool_size=2))\n",
        "model.add(Flatten())\n",
        "model.add(Dense(64, activation='relu'))\n",
        "model.add(Dense(y.shape[1], activation='softmax'))\n",
        "\n",
        "# Compile the model\n",
        "model.compile(optimizer='adam', loss='categorical_crossentropy', metrics=['accuracy'])\n",
        "\n",
        "# Train the model\n",
        "model.fit(X_train, y_train, epochs=50, batch_size=32, validation_data=(X_test, y_test))\n",
        "\n",
        "# Evaluate the model\n",
        "loss, accuracy = model.evaluate(X_test, y_test)\n",
        "print(f'Test Accuracy: {accuracy:.2f}')\n",
        "\n",
        "# Get predictions\n",
        "y_pred = model.predict(X_test)\n",
        "y_pred_classes = np.argmax(y_pred, axis=1)\n",
        "y_true = np.argmax(y_test, axis=1)\n",
        "\n",
        "# Calculate precision, recall, and F1-score\n",
        "precision, recall, f1_score, _ = precision_recall_fscore_support(y_true, y_pred_classes, average='weighted')\n",
        "\n",
        "print(f'Precision: {precision:.2f}')\n",
        "print(f'Recall: {recall:.2f}')\n",
        "print(f'F1-score: {f1_score:.2f}')\n"
      ],
      "metadata": {
        "colab": {
          "base_uri": "https://localhost:8080/"
        },
        "id": "rziDCLw0AzxV",
        "outputId": "fd08e3d2-bd73-4e58-ae3f-0defe7d969c1"
      },
      "execution_count": null,
      "outputs": [
        {
          "output_type": "stream",
          "name": "stderr",
          "text": [
            "/usr/local/lib/python3.10/dist-packages/keras/src/layers/convolutional/base_conv.py:107: UserWarning: Do not pass an `input_shape`/`input_dim` argument to a layer. When using Sequential models, prefer using an `Input(shape)` object as the first layer in the model instead.\n",
            "  super().__init__(activity_regularizer=activity_regularizer, **kwargs)\n"
          ]
        },
        {
          "output_type": "stream",
          "name": "stdout",
          "text": [
            "Epoch 1/50\n",
            "\u001b[1m52/52\u001b[0m \u001b[32m━━━━━━━━━━━━━━━━━━━━\u001b[0m\u001b[37m\u001b[0m \u001b[1m5s\u001b[0m 11ms/step - accuracy: 0.2863 - loss: 2.7393 - val_accuracy: 0.7384 - val_loss: 0.9356\n",
            "Epoch 2/50\n",
            "\u001b[1m52/52\u001b[0m \u001b[32m━━━━━━━━━━━━━━━━━━━━\u001b[0m\u001b[37m\u001b[0m \u001b[1m0s\u001b[0m 7ms/step - accuracy: 0.8107 - loss: 0.7214 - val_accuracy: 0.8680 - val_loss: 0.4248\n",
            "Epoch 3/50\n",
            "\u001b[1m52/52\u001b[0m \u001b[32m━━━━━━━━━━━━━━━━━━━━\u001b[0m\u001b[37m\u001b[0m \u001b[1m1s\u001b[0m 6ms/step - accuracy: 0.8755 - loss: 0.3932 - val_accuracy: 0.8949 - val_loss: 0.3091\n",
            "Epoch 4/50\n",
            "\u001b[1m52/52\u001b[0m \u001b[32m━━━━━━━━━━━━━━━━━━━━\u001b[0m\u001b[37m\u001b[0m \u001b[1m1s\u001b[0m 7ms/step - accuracy: 0.9061 - loss: 0.2563 - val_accuracy: 0.8900 - val_loss: 0.3073\n",
            "Epoch 5/50\n",
            "\u001b[1m52/52\u001b[0m \u001b[32m━━━━━━━━━━━━━━━━━━━━\u001b[0m\u001b[37m\u001b[0m \u001b[1m1s\u001b[0m 6ms/step - accuracy: 0.9070 - loss: 0.2271 - val_accuracy: 0.9193 - val_loss: 0.2543\n",
            "Epoch 6/50\n",
            "\u001b[1m52/52\u001b[0m \u001b[32m━━━━━━━━━━━━━━━━━━━━\u001b[0m\u001b[37m\u001b[0m \u001b[1m1s\u001b[0m 6ms/step - accuracy: 0.9104 - loss: 0.2359 - val_accuracy: 0.9071 - val_loss: 0.2386\n",
            "Epoch 7/50\n",
            "\u001b[1m52/52\u001b[0m \u001b[32m━━━━━━━━━━━━━━━━━━━━\u001b[0m\u001b[37m\u001b[0m \u001b[1m1s\u001b[0m 7ms/step - accuracy: 0.9294 - loss: 0.1924 - val_accuracy: 0.9144 - val_loss: 0.2140\n",
            "Epoch 8/50\n",
            "\u001b[1m52/52\u001b[0m \u001b[32m━━━━━━━━━━━━━━━━━━━━\u001b[0m\u001b[37m\u001b[0m \u001b[1m0s\u001b[0m 6ms/step - accuracy: 0.9190 - loss: 0.1991 - val_accuracy: 0.9095 - val_loss: 0.2060\n",
            "Epoch 9/50\n",
            "\u001b[1m52/52\u001b[0m \u001b[32m━━━━━━━━━━━━━━━━━━━━\u001b[0m\u001b[37m\u001b[0m \u001b[1m1s\u001b[0m 7ms/step - accuracy: 0.9149 - loss: 0.2132 - val_accuracy: 0.9193 - val_loss: 0.2063\n",
            "Epoch 10/50\n",
            "\u001b[1m52/52\u001b[0m \u001b[32m━━━━━━━━━━━━━━━━━━━━\u001b[0m\u001b[37m\u001b[0m \u001b[1m0s\u001b[0m 6ms/step - accuracy: 0.9021 - loss: 0.2438 - val_accuracy: 0.9144 - val_loss: 0.1938\n",
            "Epoch 11/50\n",
            "\u001b[1m52/52\u001b[0m \u001b[32m━━━━━━━━━━━━━━━━━━━━\u001b[0m\u001b[37m\u001b[0m \u001b[1m1s\u001b[0m 6ms/step - accuracy: 0.9101 - loss: 0.1999 - val_accuracy: 0.9120 - val_loss: 0.1978\n",
            "Epoch 12/50\n",
            "\u001b[1m52/52\u001b[0m \u001b[32m━━━━━━━━━━━━━━━━━━━━\u001b[0m\u001b[37m\u001b[0m \u001b[1m1s\u001b[0m 6ms/step - accuracy: 0.9198 - loss: 0.1824 - val_accuracy: 0.9242 - val_loss: 0.1874\n",
            "Epoch 13/50\n",
            "\u001b[1m52/52\u001b[0m \u001b[32m━━━━━━━━━━━━━━━━━━━━\u001b[0m\u001b[37m\u001b[0m \u001b[1m0s\u001b[0m 6ms/step - accuracy: 0.8913 - loss: 0.2190 - val_accuracy: 0.9120 - val_loss: 0.2149\n",
            "Epoch 14/50\n",
            "\u001b[1m52/52\u001b[0m \u001b[32m━━━━━━━━━━━━━━━━━━━━\u001b[0m\u001b[37m\u001b[0m \u001b[1m0s\u001b[0m 5ms/step - accuracy: 0.9178 - loss: 0.1825 - val_accuracy: 0.9046 - val_loss: 0.1996\n",
            "Epoch 15/50\n",
            "\u001b[1m52/52\u001b[0m \u001b[32m━━━━━━━━━━━━━━━━━━━━\u001b[0m\u001b[37m\u001b[0m \u001b[1m1s\u001b[0m 7ms/step - accuracy: 0.9051 - loss: 0.1859 - val_accuracy: 0.9291 - val_loss: 0.1814\n",
            "Epoch 16/50\n",
            "\u001b[1m52/52\u001b[0m \u001b[32m━━━━━━━━━━━━━━━━━━━━\u001b[0m\u001b[37m\u001b[0m \u001b[1m1s\u001b[0m 6ms/step - accuracy: 0.9062 - loss: 0.1698 - val_accuracy: 0.9242 - val_loss: 0.1673\n",
            "Epoch 17/50\n",
            "\u001b[1m52/52\u001b[0m \u001b[32m━━━━━━━━━━━━━━━━━━━━\u001b[0m\u001b[37m\u001b[0m \u001b[1m1s\u001b[0m 10ms/step - accuracy: 0.9245 - loss: 0.1596 - val_accuracy: 0.9291 - val_loss: 0.1764\n",
            "Epoch 18/50\n",
            "\u001b[1m52/52\u001b[0m \u001b[32m━━━━━━━━━━━━━━━━━━━━\u001b[0m\u001b[37m\u001b[0m \u001b[1m1s\u001b[0m 11ms/step - accuracy: 0.9018 - loss: 0.1911 - val_accuracy: 0.9169 - val_loss: 0.1769\n",
            "Epoch 19/50\n",
            "\u001b[1m52/52\u001b[0m \u001b[32m━━━━━━━━━━━━━━━━━━━━\u001b[0m\u001b[37m\u001b[0m \u001b[1m1s\u001b[0m 10ms/step - accuracy: 0.9143 - loss: 0.1679 - val_accuracy: 0.9218 - val_loss: 0.1978\n",
            "Epoch 20/50\n",
            "\u001b[1m52/52\u001b[0m \u001b[32m━━━━━━━━━━━━━━━━━━━━\u001b[0m\u001b[37m\u001b[0m \u001b[1m1s\u001b[0m 10ms/step - accuracy: 0.9217 - loss: 0.1640 - val_accuracy: 0.9218 - val_loss: 0.1858\n",
            "Epoch 21/50\n",
            "\u001b[1m52/52\u001b[0m \u001b[32m━━━━━━━━━━━━━━━━━━━━\u001b[0m\u001b[37m\u001b[0m \u001b[1m1s\u001b[0m 11ms/step - accuracy: 0.9147 - loss: 0.1819 - val_accuracy: 0.9193 - val_loss: 0.1716\n",
            "Epoch 22/50\n",
            "\u001b[1m52/52\u001b[0m \u001b[32m━━━━━━━━━━━━━━━━━━━━\u001b[0m\u001b[37m\u001b[0m \u001b[1m0s\u001b[0m 7ms/step - accuracy: 0.9185 - loss: 0.1678 - val_accuracy: 0.9242 - val_loss: 0.1783\n",
            "Epoch 23/50\n",
            "\u001b[1m52/52\u001b[0m \u001b[32m━━━━━━━━━━━━━━━━━━━━\u001b[0m\u001b[37m\u001b[0m \u001b[1m0s\u001b[0m 6ms/step - accuracy: 0.9121 - loss: 0.1661 - val_accuracy: 0.9120 - val_loss: 0.1630\n",
            "Epoch 24/50\n",
            "\u001b[1m52/52\u001b[0m \u001b[32m━━━━━━━━━━━━━━━━━━━━\u001b[0m\u001b[37m\u001b[0m \u001b[1m0s\u001b[0m 7ms/step - accuracy: 0.9153 - loss: 0.1693 - val_accuracy: 0.9291 - val_loss: 0.1793\n",
            "Epoch 25/50\n",
            "\u001b[1m52/52\u001b[0m \u001b[32m━━━━━━━━━━━━━━━━━━━━\u001b[0m\u001b[37m\u001b[0m \u001b[1m0s\u001b[0m 5ms/step - accuracy: 0.9133 - loss: 0.1748 - val_accuracy: 0.9169 - val_loss: 0.1786\n",
            "Epoch 26/50\n",
            "\u001b[1m52/52\u001b[0m \u001b[32m━━━━━━━━━━━━━━━━━━━━\u001b[0m\u001b[37m\u001b[0m \u001b[1m0s\u001b[0m 6ms/step - accuracy: 0.9006 - loss: 0.1882 - val_accuracy: 0.9120 - val_loss: 0.1741\n",
            "Epoch 27/50\n",
            "\u001b[1m52/52\u001b[0m \u001b[32m━━━━━━━━━━━━━━━━━━━━\u001b[0m\u001b[37m\u001b[0m \u001b[1m0s\u001b[0m 7ms/step - accuracy: 0.9153 - loss: 0.1756 - val_accuracy: 0.9144 - val_loss: 0.1770\n",
            "Epoch 28/50\n",
            "\u001b[1m52/52\u001b[0m \u001b[32m━━━━━━━━━━━━━━━━━━━━\u001b[0m\u001b[37m\u001b[0m \u001b[1m0s\u001b[0m 6ms/step - accuracy: 0.9157 - loss: 0.1725 - val_accuracy: 0.9120 - val_loss: 0.1768\n",
            "Epoch 29/50\n",
            "\u001b[1m52/52\u001b[0m \u001b[32m━━━━━━━━━━━━━━━━━━━━\u001b[0m\u001b[37m\u001b[0m \u001b[1m1s\u001b[0m 6ms/step - accuracy: 0.9264 - loss: 0.1512 - val_accuracy: 0.9218 - val_loss: 0.1781\n",
            "Epoch 30/50\n",
            "\u001b[1m52/52\u001b[0m \u001b[32m━━━━━━━━━━━━━━━━━━━━\u001b[0m\u001b[37m\u001b[0m \u001b[1m1s\u001b[0m 6ms/step - accuracy: 0.8953 - loss: 0.1962 - val_accuracy: 0.9169 - val_loss: 0.1801\n",
            "Epoch 31/50\n",
            "\u001b[1m52/52\u001b[0m \u001b[32m━━━━━━━━━━━━━━━━━━━━\u001b[0m\u001b[37m\u001b[0m \u001b[1m1s\u001b[0m 6ms/step - accuracy: 0.9120 - loss: 0.1732 - val_accuracy: 0.9095 - val_loss: 0.2006\n",
            "Epoch 32/50\n",
            "\u001b[1m52/52\u001b[0m \u001b[32m━━━━━━━━━━━━━━━━━━━━\u001b[0m\u001b[37m\u001b[0m \u001b[1m0s\u001b[0m 6ms/step - accuracy: 0.9150 - loss: 0.1796 - val_accuracy: 0.9120 - val_loss: 0.1758\n",
            "Epoch 33/50\n",
            "\u001b[1m52/52\u001b[0m \u001b[32m━━━━━━━━━━━━━━━━━━━━\u001b[0m\u001b[37m\u001b[0m \u001b[1m1s\u001b[0m 5ms/step - accuracy: 0.9130 - loss: 0.1695 - val_accuracy: 0.9095 - val_loss: 0.1766\n",
            "Epoch 34/50\n",
            "\u001b[1m52/52\u001b[0m \u001b[32m━━━━━━━━━━━━━━━━━━━━\u001b[0m\u001b[37m\u001b[0m \u001b[1m0s\u001b[0m 6ms/step - accuracy: 0.9092 - loss: 0.1752 - val_accuracy: 0.9120 - val_loss: 0.1667\n",
            "Epoch 35/50\n",
            "\u001b[1m52/52\u001b[0m \u001b[32m━━━━━━━━━━━━━━━━━━━━\u001b[0m\u001b[37m\u001b[0m \u001b[1m0s\u001b[0m 6ms/step - accuracy: 0.9258 - loss: 0.1567 - val_accuracy: 0.9193 - val_loss: 0.1584\n",
            "Epoch 36/50\n",
            "\u001b[1m52/52\u001b[0m \u001b[32m━━━━━━━━━━━━━━━━━━━━\u001b[0m\u001b[37m\u001b[0m \u001b[1m1s\u001b[0m 6ms/step - accuracy: 0.9304 - loss: 0.1441 - val_accuracy: 0.9120 - val_loss: 0.1737\n",
            "Epoch 37/50\n",
            "\u001b[1m52/52\u001b[0m \u001b[32m━━━━━━━━━━━━━━━━━━━━\u001b[0m\u001b[37m\u001b[0m \u001b[1m1s\u001b[0m 7ms/step - accuracy: 0.9152 - loss: 0.1782 - val_accuracy: 0.9218 - val_loss: 0.1788\n",
            "Epoch 38/50\n",
            "\u001b[1m52/52\u001b[0m \u001b[32m━━━━━━━━━━━━━━━━━━━━\u001b[0m\u001b[37m\u001b[0m \u001b[1m0s\u001b[0m 7ms/step - accuracy: 0.9210 - loss: 0.1693 - val_accuracy: 0.9218 - val_loss: 0.1656\n",
            "Epoch 39/50\n",
            "\u001b[1m52/52\u001b[0m \u001b[32m━━━━━━━━━━━━━━━━━━━━\u001b[0m\u001b[37m\u001b[0m \u001b[1m0s\u001b[0m 7ms/step - accuracy: 0.9146 - loss: 0.1652 - val_accuracy: 0.9267 - val_loss: 0.1597\n",
            "Epoch 40/50\n",
            "\u001b[1m52/52\u001b[0m \u001b[32m━━━━━━━━━━━━━━━━━━━━\u001b[0m\u001b[37m\u001b[0m \u001b[1m1s\u001b[0m 5ms/step - accuracy: 0.9168 - loss: 0.1673 - val_accuracy: 0.9242 - val_loss: 0.1658\n",
            "Epoch 41/50\n",
            "\u001b[1m52/52\u001b[0m \u001b[32m━━━━━━━━━━━━━━━━━━━━\u001b[0m\u001b[37m\u001b[0m \u001b[1m0s\u001b[0m 7ms/step - accuracy: 0.8908 - loss: 0.1805 - val_accuracy: 0.9169 - val_loss: 0.1881\n",
            "Epoch 42/50\n",
            "\u001b[1m52/52\u001b[0m \u001b[32m━━━━━━━━━━━━━━━━━━━━\u001b[0m\u001b[37m\u001b[0m \u001b[1m1s\u001b[0m 7ms/step - accuracy: 0.9046 - loss: 0.1867 - val_accuracy: 0.9218 - val_loss: 0.1792\n",
            "Epoch 43/50\n",
            "\u001b[1m52/52\u001b[0m \u001b[32m━━━━━━━━━━━━━━━━━━━━\u001b[0m\u001b[37m\u001b[0m \u001b[1m1s\u001b[0m 11ms/step - accuracy: 0.9210 - loss: 0.1553 - val_accuracy: 0.9169 - val_loss: 0.1694\n",
            "Epoch 44/50\n",
            "\u001b[1m52/52\u001b[0m \u001b[32m━━━━━━━━━━━━━━━━━━━━\u001b[0m\u001b[37m\u001b[0m \u001b[1m1s\u001b[0m 9ms/step - accuracy: 0.9215 - loss: 0.1667 - val_accuracy: 0.9193 - val_loss: 0.1777\n",
            "Epoch 45/50\n",
            "\u001b[1m52/52\u001b[0m \u001b[32m━━━━━━━━━━━━━━━━━━━━\u001b[0m\u001b[37m\u001b[0m \u001b[1m1s\u001b[0m 10ms/step - accuracy: 0.9112 - loss: 0.1736 - val_accuracy: 0.9242 - val_loss: 0.1595\n",
            "Epoch 46/50\n",
            "\u001b[1m52/52\u001b[0m \u001b[32m━━━━━━━━━━━━━━━━━━━━\u001b[0m\u001b[37m\u001b[0m \u001b[1m1s\u001b[0m 10ms/step - accuracy: 0.9213 - loss: 0.1543 - val_accuracy: 0.9218 - val_loss: 0.1674\n",
            "Epoch 47/50\n",
            "\u001b[1m52/52\u001b[0m \u001b[32m━━━━━━━━━━━━━━━━━━━━\u001b[0m\u001b[37m\u001b[0m \u001b[1m1s\u001b[0m 10ms/step - accuracy: 0.8949 - loss: 0.1715 - val_accuracy: 0.9169 - val_loss: 0.1697\n",
            "Epoch 48/50\n",
            "\u001b[1m52/52\u001b[0m \u001b[32m━━━━━━━━━━━━━━━━━━━━\u001b[0m\u001b[37m\u001b[0m \u001b[1m1s\u001b[0m 9ms/step - accuracy: 0.9124 - loss: 0.1611 - val_accuracy: 0.9291 - val_loss: 0.1606\n",
            "Epoch 49/50\n",
            "\u001b[1m52/52\u001b[0m \u001b[32m━━━━━━━━━━━━━━━━━━━━\u001b[0m\u001b[37m\u001b[0m \u001b[1m0s\u001b[0m 6ms/step - accuracy: 0.9146 - loss: 0.1642 - val_accuracy: 0.9267 - val_loss: 0.1564\n",
            "Epoch 50/50\n",
            "\u001b[1m52/52\u001b[0m \u001b[32m━━━━━━━━━━━━━━━━━━━━\u001b[0m\u001b[37m\u001b[0m \u001b[1m1s\u001b[0m 6ms/step - accuracy: 0.9086 - loss: 0.1740 - val_accuracy: 0.9267 - val_loss: 0.1713\n",
            "\u001b[1m13/13\u001b[0m \u001b[32m━━━━━━━━━━━━━━━━━━━━\u001b[0m\u001b[37m\u001b[0m \u001b[1m0s\u001b[0m 2ms/step - accuracy: 0.9386 - loss: 0.1815 \n",
            "Test Accuracy: 0.93\n",
            "\u001b[1m13/13\u001b[0m \u001b[32m━━━━━━━━━━━━━━━━━━━━\u001b[0m\u001b[37m\u001b[0m \u001b[1m0s\u001b[0m 9ms/step\n",
            "Precision: 0.95\n",
            "Recall: 0.93\n",
            "F1-score: 0.92\n"
          ]
        }
      ]
    },
    {
      "cell_type": "code",
      "source": [
        "plt.figure(figsize=(6, 6))\n",
        "plt.plot(history.history['accuracy'], label='Training Accuracy')\n",
        "plt.plot(history.history['val_accuracy'], label='Validation Accuracy')\n",
        "plt.title('Model Accuracy')\n",
        "plt.xlabel('Epoch')\n",
        "plt.ylabel('Accuracy')\n",
        "plt.legend()\n",
        "plt.show()\n"
      ],
      "metadata": {
        "id": "tHkuM4xAEaMu",
        "outputId": "d3671b5f-557b-42a2-a6de-b274f7e6904a",
        "colab": {
          "base_uri": "https://localhost:8080/",
          "height": 573
        }
      },
      "execution_count": null,
      "outputs": [
        {
          "output_type": "display_data",
          "data": {
            "text/plain": [
              "<Figure size 600x600 with 1 Axes>"
            ],
            "image/png": "[encoded data removed]"
          },
          "metadata": {}
        }
      ]
    }
  ],
  "metadata": {
    "colab": {
      "provenance": [],
      "authorship_tag": "ABX9TyOBNhR3fnHCc8FeDe/Fa+nI",
      "include_colab_link": true
    },
    "kernelspec": {
      "display_name": "Python 3",
      "name": "python3"
    },
    "language_info": {
      "name": "python"
    }
  },
  "nbformat": 4,
  "nbformat_minor": 0
}